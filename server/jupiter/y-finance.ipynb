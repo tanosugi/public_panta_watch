{
 "metadata": {
  "language_info": {
   "codemirror_mode": {
    "name": "ipython",
    "version": 3
   },
   "file_extension": ".py",
   "mimetype": "text/x-python",
   "name": "python",
   "nbconvert_exporter": "python",
   "pygments_lexer": "ipython3",
   "version": "3.7.9-final"
  },
  "orig_nbformat": 2,
  "kernelspec": {
   "name": "python3",
   "display_name": "Python 3",
   "language": "python"
  }
 },
 "nbformat": 4,
 "nbformat_minor": 2,
 "cells": [
  {
   "cell_type": "code",
   "execution_count": 1,
   "metadata": {},
   "outputs": [],
   "source": [
    "import yfinance as yf\n",
    "msft = yf.Ticker(\"MSFT\")"
   ]
  },
  {
   "cell_type": "code",
   "execution_count": 34,
   "metadata": {},
   "outputs": [
    {
     "output_type": "execute_result",
     "data": {
      "text/plain": [
       "{'zip': '98052-6399',\n",
       " 'sector': 'Technology',\n",
       " 'fullTimeEmployees': 163000,\n",
       " 'longBusinessSummary': 'Microsoft Corporation develops, licenses, and supports software, services, devices, and solutions worldwide. Its Productivity and Business Processes segment offers Office, Exchange, SharePoint, Microsoft Teams, Office 365 Security and Compliance, and Skype for Business, as well as related Client Access Licenses (CAL); Skype, Outlook.com, OneDrive, and LinkedIn; and Dynamics 365, a set of cloud-based and on-premises business solutions for small and medium businesses, large organizations, and divisions of enterprises. Its Intelligent Cloud segment licenses SQL and Windows Servers, Visual Studio, System Center, and related CALs; GitHub that provides a collaboration platform and code hosting service for developers; and Azure, a cloud platform. It also offers support services and Microsoft consulting services to assist customers in developing, deploying, and managing Microsoft server and desktop solutions; and training and certification to developers and IT professionals on various Microsoft products. Its More Personal Computing segment provides Windows original equipment manufacturer (OEM) licensing and other non-volume licensing of the Windows operating system; Windows Commercial, such as volume licensing of the Windows operating system, Windows cloud services, and other Windows commercial offerings; patent licensing; Windows Internet of Things; and MSN advertising. It also offers Surface, PC accessories, PCs, tablets, gaming and entertainment consoles, and other devices; Gaming, including Xbox hardware, and Xbox content and services; video games and third-party video game royalties; and Search, including Bing and Microsoft advertising. It sells its products through OEMs, distributors, and resellers; and directly through digital marketplaces, online stores, and retail stores. It has a strategic collaboration with DXC Technology. The company was founded in 1975 and is headquartered in Redmond, Washington.',\n",
       " 'city': 'Redmond',\n",
       " 'phone': '425-882-8080',\n",
       " 'state': 'WA',\n",
       " 'country': 'United States',\n",
       " 'companyOfficers': [],\n",
       " 'website': 'http://www.microsoft.com',\n",
       " 'maxAge': 1,\n",
       " 'address1': 'One Microsoft Way',\n",
       " 'industry': 'Software—Infrastructure',\n",
       " 'previousClose': 232.42,\n",
       " 'regularMarketOpen': 234.96,\n",
       " 'twoHundredDayAverage': 219.76591,\n",
       " 'trailingAnnualDividendYield': 0.009207469,\n",
       " 'payoutRatio': 0.31149998,\n",
       " 'volume24Hr': None,\n",
       " 'regularMarketDayHigh': 236.75,\n",
       " 'navPrice': None,\n",
       " 'averageDailyVolume10Day': 33312387,\n",
       " 'totalAssets': None,\n",
       " 'regularMarketPreviousClose': 232.42,\n",
       " 'fiftyDayAverage': 235.78485,\n",
       " 'trailingAnnualDividendRate': 2.14,\n",
       " 'open': 234.96,\n",
       " 'toCurrency': None,\n",
       " 'averageVolume10days': 33312387,\n",
       " 'expireDate': None,\n",
       " 'yield': None,\n",
       " 'algorithm': None,\n",
       " 'dividendRate': 2.24,\n",
       " 'exDividendDate': 1613520000,\n",
       " 'beta': 0.812567,\n",
       " 'circulatingSupply': None,\n",
       " 'startDate': None,\n",
       " 'regularMarketDayLow': 234.53,\n",
       " 'priceHint': 2,\n",
       " 'currency': 'USD',\n",
       " 'trailingPE': 35.0246,\n",
       " 'regularMarketVolume': 3314019,\n",
       " 'lastMarket': None,\n",
       " 'maxSupply': None,\n",
       " 'openInterest': None,\n",
       " 'marketCap': 1771742822400,\n",
       " 'volumeAllCurrencies': None,\n",
       " 'strikePrice': None,\n",
       " 'averageVolume': 29813463,\n",
       " 'priceToSalesTrailing12Months': 11.558563,\n",
       " 'dayLow': 234.53,\n",
       " 'ask': 236.03,\n",
       " 'ytdReturn': None,\n",
       " 'askSize': 900,\n",
       " 'volume': 3314019,\n",
       " 'fiftyTwoWeekHigh': 246.13,\n",
       " 'forwardPE': 29.037083,\n",
       " 'fromCurrency': None,\n",
       " 'fiveYearAvgDividendYield': 1.68,\n",
       " 'fiftyTwoWeekLow': 132.52,\n",
       " 'bid': 235.88,\n",
       " 'tradeable': False,\n",
       " 'dividendYield': 0.0095999995,\n",
       " 'bidSize': 1000,\n",
       " 'dayHigh': 236.75,\n",
       " 'exchange': 'NMS',\n",
       " 'shortName': 'Microsoft Corporation',\n",
       " 'longName': 'Microsoft Corporation',\n",
       " 'exchangeTimezoneName': 'America/New_York',\n",
       " 'exchangeTimezoneShortName': 'EST',\n",
       " 'isEsgPopulated': False,\n",
       " 'gmtOffSetMilliseconds': '-18000000',\n",
       " 'quoteType': 'EQUITY',\n",
       " 'symbol': 'MSFT',\n",
       " 'messageBoardId': 'finmb_21835',\n",
       " 'market': 'us_market',\n",
       " 'annualHoldingsTurnover': None,\n",
       " 'enterpriseToRevenue': 11.115,\n",
       " 'beta3Year': None,\n",
       " 'profitMargins': 0.33473998,\n",
       " 'enterpriseToEbitda': 23.767,\n",
       " '52WeekChange': 0.6713649,\n",
       " 'morningStarRiskRating': None,\n",
       " 'forwardEps': 8.09,\n",
       " 'revenueQuarterlyGrowth': None,\n",
       " 'sharesOutstanding': 7560500224,\n",
       " 'fundInceptionDate': None,\n",
       " 'annualReportExpenseRatio': None,\n",
       " 'bookValue': 17.259,\n",
       " 'sharesShort': 41632106,\n",
       " 'sharesPercentSharesOut': 0.0055,\n",
       " 'fundFamily': None,\n",
       " 'lastFiscalYearEnd': 1593475200,\n",
       " 'heldPercentInstitutions': 0.71844,\n",
       " 'netIncomeToCommon': 51309998080,\n",
       " 'trailingEps': 6.707,\n",
       " 'lastDividendValue': 0.56,\n",
       " 'SandP52WeekChange': 0.5716952,\n",
       " 'priceToBook': 13.610869,\n",
       " 'heldPercentInsiders': 0.00059,\n",
       " 'nextFiscalYearEnd': 1656547200,\n",
       " 'mostRecentQuarter': 1609372800,\n",
       " 'shortRatio': 1.36,\n",
       " 'sharesShortPreviousMonthDate': 1611878400,\n",
       " 'floatShares': 7431118929,\n",
       " 'enterpriseValue': 1703754727424,\n",
       " 'threeYearAverageReturn': None,\n",
       " 'lastSplitDate': 1045526400,\n",
       " 'lastSplitFactor': '2:1',\n",
       " 'legalType': None,\n",
       " 'lastDividendDate': 1613520000,\n",
       " 'morningStarOverallRating': None,\n",
       " 'earningsQuarterlyGrowth': 0.327,\n",
       " 'dateShortInterest': 1614297600,\n",
       " 'pegRatio': 1.82,\n",
       " 'lastCapGain': None,\n",
       " 'shortPercentOfFloat': 0.0055,\n",
       " 'sharesShortPriorMonth': 44533174,\n",
       " 'impliedSharesOutstanding': None,\n",
       " 'category': None,\n",
       " 'fiveYearAverageReturn': None,\n",
       " 'regularMarketPrice': 234.96,\n",
       " 'logo_url': 'https://logo.clearbit.com/microsoft.com'}"
      ]
     },
     "metadata": {},
     "execution_count": 34
    }
   ],
   "source": [
    "# get stock info\n",
    "msft.info"
   ]
  },
  {
   "cell_type": "code",
   "execution_count": 5,
   "metadata": {},
   "outputs": [],
   "source": [
    "# get historical market data\n",
    "hist = msft.history(period=\"max\")"
   ]
  },
  {
   "cell_type": "code",
   "execution_count": 7,
   "metadata": {},
   "outputs": [
    {
     "output_type": "execute_result",
     "data": {
      "text/plain": [
       "            Dividends  Stock Splits\n",
       "Date                               \n",
       "1987-09-21       0.00           2.0\n",
       "1990-04-16       0.00           2.0\n",
       "1991-06-27       0.00           1.5\n",
       "1992-06-15       0.00           1.5\n",
       "1994-05-23       0.00           2.0\n",
       "...               ...           ...\n",
       "2020-02-19       0.51           0.0\n",
       "2020-05-20       0.51           0.0\n",
       "2020-08-19       0.51           0.0\n",
       "2020-11-18       0.56           0.0\n",
       "2021-02-17       0.56           0.0\n",
       "\n",
       "[78 rows x 2 columns]"
      ],
      "text/html": "<div>\n<style scoped>\n    .dataframe tbody tr th:only-of-type {\n        vertical-align: middle;\n    }\n\n    .dataframe tbody tr th {\n        vertical-align: top;\n    }\n\n    .dataframe thead th {\n        text-align: right;\n    }\n</style>\n<table border=\"1\" class=\"dataframe\">\n  <thead>\n    <tr style=\"text-align: right;\">\n      <th></th>\n      <th>Dividends</th>\n      <th>Stock Splits</th>\n    </tr>\n    <tr>\n      <th>Date</th>\n      <th></th>\n      <th></th>\n    </tr>\n  </thead>\n  <tbody>\n    <tr>\n      <th>1987-09-21</th>\n      <td>0.00</td>\n      <td>2.0</td>\n    </tr>\n    <tr>\n      <th>1990-04-16</th>\n      <td>0.00</td>\n      <td>2.0</td>\n    </tr>\n    <tr>\n      <th>1991-06-27</th>\n      <td>0.00</td>\n      <td>1.5</td>\n    </tr>\n    <tr>\n      <th>1992-06-15</th>\n      <td>0.00</td>\n      <td>1.5</td>\n    </tr>\n    <tr>\n      <th>1994-05-23</th>\n      <td>0.00</td>\n      <td>2.0</td>\n    </tr>\n    <tr>\n      <th>...</th>\n      <td>...</td>\n      <td>...</td>\n    </tr>\n    <tr>\n      <th>2020-02-19</th>\n      <td>0.51</td>\n      <td>0.0</td>\n    </tr>\n    <tr>\n      <th>2020-05-20</th>\n      <td>0.51</td>\n      <td>0.0</td>\n    </tr>\n    <tr>\n      <th>2020-08-19</th>\n      <td>0.51</td>\n      <td>0.0</td>\n    </tr>\n    <tr>\n      <th>2020-11-18</th>\n      <td>0.56</td>\n      <td>0.0</td>\n    </tr>\n    <tr>\n      <th>2021-02-17</th>\n      <td>0.56</td>\n      <td>0.0</td>\n    </tr>\n  </tbody>\n</table>\n<p>78 rows × 2 columns</p>\n</div>"
     },
     "metadata": {},
     "execution_count": 7
    }
   ],
   "source": [
    "# show actions (dividends, splits)\n",
    "msft.actions"
   ]
  },
  {
   "cell_type": "code",
   "execution_count": 8,
   "metadata": {},
   "outputs": [
    {
     "output_type": "execute_result",
     "data": {
      "text/plain": [
       "Date\n",
       "2003-02-19    0.08\n",
       "2003-10-15    0.16\n",
       "2004-08-23    0.08\n",
       "2004-11-15    3.08\n",
       "2005-02-15    0.08\n",
       "              ... \n",
       "2020-02-19    0.51\n",
       "2020-05-20    0.51\n",
       "2020-08-19    0.51\n",
       "2020-11-18    0.56\n",
       "2021-02-17    0.56\n",
       "Name: Dividends, Length: 69, dtype: float64"
      ]
     },
     "metadata": {},
     "execution_count": 8
    }
   ],
   "source": [
    "# show dividends\n",
    "msft.dividends"
   ]
  },
  {
   "cell_type": "code",
   "execution_count": 9,
   "metadata": {},
   "outputs": [
    {
     "output_type": "execute_result",
     "data": {
      "text/plain": [
       "Date\n",
       "1987-09-21    2.0\n",
       "1990-04-16    2.0\n",
       "1991-06-27    1.5\n",
       "1992-06-15    1.5\n",
       "1994-05-23    2.0\n",
       "1996-12-09    2.0\n",
       "1998-02-23    2.0\n",
       "1999-03-29    2.0\n",
       "2003-02-18    2.0\n",
       "Name: Stock Splits, dtype: float64"
      ]
     },
     "metadata": {},
     "execution_count": 9
    }
   ],
   "source": [
    "# show splits\n",
    "msft.splits"
   ]
  },
  {
   "cell_type": "code",
   "execution_count": 2,
   "metadata": {},
   "outputs": [
    {
     "output_type": "execute_result",
     "data": {
      "text/plain": [
       "Empty DataFrame\n",
       "Columns: [Open, High, Low, Close, Adj Close, Volume]\n",
       "Index: []"
      ],
      "text/html": "<div>\n<style scoped>\n    .dataframe tbody tr th:only-of-type {\n        vertical-align: middle;\n    }\n\n    .dataframe tbody tr th {\n        vertical-align: top;\n    }\n\n    .dataframe thead th {\n        text-align: right;\n    }\n</style>\n<table border=\"1\" class=\"dataframe\">\n  <thead>\n    <tr style=\"text-align: right;\">\n      <th></th>\n      <th>Open</th>\n      <th>High</th>\n      <th>Low</th>\n      <th>Close</th>\n      <th>Adj Close</th>\n      <th>Volume</th>\n    </tr>\n    <tr>\n      <th>Date</th>\n      <th></th>\n      <th></th>\n      <th></th>\n      <th></th>\n      <th></th>\n      <th></th>\n    </tr>\n  </thead>\n  <tbody>\n  </tbody>\n</table>\n</div>"
     },
     "metadata": {},
     "execution_count": 2
    }
   ],
   "source": [
    "# show financials\n",
    "# msft.financials\n",
    "yf.Ticker('BIM.PA').earnings"
   ]
  },
  {
   "cell_type": "code",
   "execution_count": 3,
   "metadata": {},
   "outputs": [
    {
     "output_type": "execute_result",
     "data": {
      "text/plain": [
       "Empty DataFrame\n",
       "Columns: [Open, High, Low, Close, Adj Close, Volume]\n",
       "Index: []"
      ],
      "text/html": "<div>\n<style scoped>\n    .dataframe tbody tr th:only-of-type {\n        vertical-align: middle;\n    }\n\n    .dataframe tbody tr th {\n        vertical-align: top;\n    }\n\n    .dataframe thead th {\n        text-align: right;\n    }\n</style>\n<table border=\"1\" class=\"dataframe\">\n  <thead>\n    <tr style=\"text-align: right;\">\n      <th></th>\n      <th>Open</th>\n      <th>High</th>\n      <th>Low</th>\n      <th>Close</th>\n      <th>Adj Close</th>\n      <th>Volume</th>\n    </tr>\n    <tr>\n      <th>Date</th>\n      <th></th>\n      <th></th>\n      <th></th>\n      <th></th>\n      <th></th>\n      <th></th>\n    </tr>\n  </thead>\n  <tbody>\n  </tbody>\n</table>\n</div>"
     },
     "metadata": {},
     "execution_count": 3
    }
   ],
   "source": [
    "msft.quarterly_financials"
   ]
  },
  {
   "cell_type": "code",
   "execution_count": 4,
   "metadata": {},
   "outputs": [
    {
     "output_type": "execute_result",
     "data": {
      "text/plain": [
       "        0                                      1\n",
       "0   0.06%        % of Shares Held by All Insider\n",
       "1  71.84%       % of Shares Held by Institutions\n",
       "2  71.89%        % of Float Held by Institutions\n",
       "3    4849  Number of Institutions Holding Shares"
      ],
      "text/html": "<div>\n<style scoped>\n    .dataframe tbody tr th:only-of-type {\n        vertical-align: middle;\n    }\n\n    .dataframe tbody tr th {\n        vertical-align: top;\n    }\n\n    .dataframe thead th {\n        text-align: right;\n    }\n</style>\n<table border=\"1\" class=\"dataframe\">\n  <thead>\n    <tr style=\"text-align: right;\">\n      <th></th>\n      <th>0</th>\n      <th>1</th>\n    </tr>\n  </thead>\n  <tbody>\n    <tr>\n      <th>0</th>\n      <td>0.06%</td>\n      <td>% of Shares Held by All Insider</td>\n    </tr>\n    <tr>\n      <th>1</th>\n      <td>71.84%</td>\n      <td>% of Shares Held by Institutions</td>\n    </tr>\n    <tr>\n      <th>2</th>\n      <td>71.89%</td>\n      <td>% of Float Held by Institutions</td>\n    </tr>\n    <tr>\n      <th>3</th>\n      <td>4849</td>\n      <td>Number of Institutions Holding Shares</td>\n    </tr>\n  </tbody>\n</table>\n</div>"
     },
     "metadata": {},
     "execution_count": 4
    }
   ],
   "source": [
    "# show major holders\n",
    "msft.major_holders"
   ]
  },
  {
   "cell_type": "code",
   "execution_count": 5,
   "metadata": {},
   "outputs": [
    {
     "output_type": "execute_result",
     "data": {
      "text/plain": [
       "                              Holder     Shares Date Reported   % Out  \\\n",
       "0         Vanguard Group, Inc. (The)  614100233    2020-12-30  0.0814   \n",
       "1                     Blackrock Inc.  515509179    2020-12-30  0.0683   \n",
       "2           State Street Corporation  299126371    2020-12-30  0.0397   \n",
       "3                           FMR, LLC  222257473    2020-12-30  0.0295   \n",
       "4      Price (T.Rowe) Associates Inc  177500157    2020-12-30  0.0235   \n",
       "5      Geode Capital Management, LLC  117798162    2020-12-30  0.0156   \n",
       "6            Capital World Investors  110441260    2020-12-30  0.0146   \n",
       "7  Capital Research Global Investors   95506129    2020-12-30  0.0127   \n",
       "8    Capital International Investors   91995988    2020-12-30  0.0122   \n",
       "9         Northern Trust Corporation   91215100    2020-12-30  0.0121   \n",
       "\n",
       "          Value  \n",
       "0  136588173823  \n",
       "1  114659551593  \n",
       "2   66531687437  \n",
       "3   49434507144  \n",
       "4   39479584919  \n",
       "5   26200667192  \n",
       "6   24564345049  \n",
       "7   21242473212  \n",
       "8   20461747650  \n",
       "9   20288062542  "
      ],
      "text/html": "<div>\n<style scoped>\n    .dataframe tbody tr th:only-of-type {\n        vertical-align: middle;\n    }\n\n    .dataframe tbody tr th {\n        vertical-align: top;\n    }\n\n    .dataframe thead th {\n        text-align: right;\n    }\n</style>\n<table border=\"1\" class=\"dataframe\">\n  <thead>\n    <tr style=\"text-align: right;\">\n      <th></th>\n      <th>Holder</th>\n      <th>Shares</th>\n      <th>Date Reported</th>\n      <th>% Out</th>\n      <th>Value</th>\n    </tr>\n  </thead>\n  <tbody>\n    <tr>\n      <th>0</th>\n      <td>Vanguard Group, Inc. (The)</td>\n      <td>614100233</td>\n      <td>2020-12-30</td>\n      <td>0.0814</td>\n      <td>136588173823</td>\n    </tr>\n    <tr>\n      <th>1</th>\n      <td>Blackrock Inc.</td>\n      <td>515509179</td>\n      <td>2020-12-30</td>\n      <td>0.0683</td>\n      <td>114659551593</td>\n    </tr>\n    <tr>\n      <th>2</th>\n      <td>State Street Corporation</td>\n      <td>299126371</td>\n      <td>2020-12-30</td>\n      <td>0.0397</td>\n      <td>66531687437</td>\n    </tr>\n    <tr>\n      <th>3</th>\n      <td>FMR, LLC</td>\n      <td>222257473</td>\n      <td>2020-12-30</td>\n      <td>0.0295</td>\n      <td>49434507144</td>\n    </tr>\n    <tr>\n      <th>4</th>\n      <td>Price (T.Rowe) Associates Inc</td>\n      <td>177500157</td>\n      <td>2020-12-30</td>\n      <td>0.0235</td>\n      <td>39479584919</td>\n    </tr>\n    <tr>\n      <th>5</th>\n      <td>Geode Capital Management, LLC</td>\n      <td>117798162</td>\n      <td>2020-12-30</td>\n      <td>0.0156</td>\n      <td>26200667192</td>\n    </tr>\n    <tr>\n      <th>6</th>\n      <td>Capital World Investors</td>\n      <td>110441260</td>\n      <td>2020-12-30</td>\n      <td>0.0146</td>\n      <td>24564345049</td>\n    </tr>\n    <tr>\n      <th>7</th>\n      <td>Capital Research Global Investors</td>\n      <td>95506129</td>\n      <td>2020-12-30</td>\n      <td>0.0127</td>\n      <td>21242473212</td>\n    </tr>\n    <tr>\n      <th>8</th>\n      <td>Capital International Investors</td>\n      <td>91995988</td>\n      <td>2020-12-30</td>\n      <td>0.0122</td>\n      <td>20461747650</td>\n    </tr>\n    <tr>\n      <th>9</th>\n      <td>Northern Trust Corporation</td>\n      <td>91215100</td>\n      <td>2020-12-30</td>\n      <td>0.0121</td>\n      <td>20288062542</td>\n    </tr>\n  </tbody>\n</table>\n</div>"
     },
     "metadata": {},
     "execution_count": 5
    }
   ],
   "source": [
    "# show institutional holders\n",
    "msft.institutional_holders"
   ]
  },
  {
   "cell_type": "code",
   "execution_count": 6,
   "metadata": {},
   "outputs": [
    {
     "output_type": "execute_result",
     "data": {
      "text/plain": [
       "Empty DataFrame\n",
       "Columns: [Open, High, Low, Close, Adj Close, Volume]\n",
       "Index: []"
      ],
      "text/html": "<div>\n<style scoped>\n    .dataframe tbody tr th:only-of-type {\n        vertical-align: middle;\n    }\n\n    .dataframe tbody tr th {\n        vertical-align: top;\n    }\n\n    .dataframe thead th {\n        text-align: right;\n    }\n</style>\n<table border=\"1\" class=\"dataframe\">\n  <thead>\n    <tr style=\"text-align: right;\">\n      <th></th>\n      <th>Open</th>\n      <th>High</th>\n      <th>Low</th>\n      <th>Close</th>\n      <th>Adj Close</th>\n      <th>Volume</th>\n    </tr>\n    <tr>\n      <th>Date</th>\n      <th></th>\n      <th></th>\n      <th></th>\n      <th></th>\n      <th></th>\n      <th></th>\n    </tr>\n  </thead>\n  <tbody>\n  </tbody>\n</table>\n</div>"
     },
     "metadata": {},
     "execution_count": 6
    }
   ],
   "source": [
    "# show balance sheet\n",
    "msft.balance_sheet"
   ]
  },
  {
   "cell_type": "code",
   "execution_count": 15,
   "metadata": {},
   "outputs": [
    {
     "output_type": "execute_result",
     "data": {
      "text/plain": [
       "Empty DataFrame\n",
       "Columns: [Open, High, Low, Close, Adj Close, Volume]\n",
       "Index: []"
      ],
      "text/html": "<div>\n<style scoped>\n    .dataframe tbody tr th:only-of-type {\n        vertical-align: middle;\n    }\n\n    .dataframe tbody tr th {\n        vertical-align: top;\n    }\n\n    .dataframe thead th {\n        text-align: right;\n    }\n</style>\n<table border=\"1\" class=\"dataframe\">\n  <thead>\n    <tr style=\"text-align: right;\">\n      <th></th>\n      <th>Open</th>\n      <th>High</th>\n      <th>Low</th>\n      <th>Close</th>\n      <th>Adj Close</th>\n      <th>Volume</th>\n    </tr>\n    <tr>\n      <th>Date</th>\n      <th></th>\n      <th></th>\n      <th></th>\n      <th></th>\n      <th></th>\n      <th></th>\n    </tr>\n  </thead>\n  <tbody>\n  </tbody>\n</table>\n</div>"
     },
     "metadata": {},
     "execution_count": 15
    }
   ],
   "source": [
    "msft.quarterly_balance_sheet"
   ]
  },
  {
   "cell_type": "code",
   "execution_count": 16,
   "metadata": {},
   "outputs": [
    {
     "output_type": "execute_result",
     "data": {
      "text/plain": [
       "Empty DataFrame\n",
       "Columns: [Open, High, Low, Close, Adj Close, Volume]\n",
       "Index: []"
      ],
      "text/html": "<div>\n<style scoped>\n    .dataframe tbody tr th:only-of-type {\n        vertical-align: middle;\n    }\n\n    .dataframe tbody tr th {\n        vertical-align: top;\n    }\n\n    .dataframe thead th {\n        text-align: right;\n    }\n</style>\n<table border=\"1\" class=\"dataframe\">\n  <thead>\n    <tr style=\"text-align: right;\">\n      <th></th>\n      <th>Open</th>\n      <th>High</th>\n      <th>Low</th>\n      <th>Close</th>\n      <th>Adj Close</th>\n      <th>Volume</th>\n    </tr>\n    <tr>\n      <th>Date</th>\n      <th></th>\n      <th></th>\n      <th></th>\n      <th></th>\n      <th></th>\n      <th></th>\n    </tr>\n  </thead>\n  <tbody>\n  </tbody>\n</table>\n</div>"
     },
     "metadata": {},
     "execution_count": 16
    }
   ],
   "source": [
    "# show cashflow\n",
    "msft.cashflow\n",
    "msft.quarterly_cashflow\n"
   ]
  },
  {
   "cell_type": "code",
   "execution_count": 17,
   "metadata": {},
   "outputs": [
    {
     "output_type": "execute_result",
     "data": {
      "text/plain": [
       "Empty DataFrame\n",
       "Columns: [Open, High, Low, Close, Adj Close, Volume]\n",
       "Index: []"
      ],
      "text/html": "<div>\n<style scoped>\n    .dataframe tbody tr th:only-of-type {\n        vertical-align: middle;\n    }\n\n    .dataframe tbody tr th {\n        vertical-align: top;\n    }\n\n    .dataframe thead th {\n        text-align: right;\n    }\n</style>\n<table border=\"1\" class=\"dataframe\">\n  <thead>\n    <tr style=\"text-align: right;\">\n      <th></th>\n      <th>Open</th>\n      <th>High</th>\n      <th>Low</th>\n      <th>Close</th>\n      <th>Adj Close</th>\n      <th>Volume</th>\n    </tr>\n    <tr>\n      <th>Date</th>\n      <th></th>\n      <th></th>\n      <th></th>\n      <th></th>\n      <th></th>\n      <th></th>\n    </tr>\n  </thead>\n  <tbody>\n  </tbody>\n</table>\n</div>"
     },
     "metadata": {},
     "execution_count": 17
    }
   ],
   "source": [
    "# show earnings\n",
    "msft.earnings\n",
    "msft.quarterly_earnings"
   ]
  },
  {
   "cell_type": "code",
   "execution_count": 18,
   "metadata": {},
   "outputs": [
    {
     "output_type": "execute_result",
     "data": {
      "text/plain": [
       "                                     Value\n",
       "2021-3                                    \n",
       "palmOil                              False\n",
       "controversialWeapons                 False\n",
       "gambling                             False\n",
       "socialScore                           9.37\n",
       "nuclear                              False\n",
       "furLeather                           False\n",
       "alcoholic                            False\n",
       "gmo                                  False\n",
       "catholic                             False\n",
       "socialPercentile                      None\n",
       "peerCount                              103\n",
       "governanceScore                        4.9\n",
       "environmentPercentile                 None\n",
       "animalTesting                        False\n",
       "tobacco                              False\n",
       "totalEsg                             14.74\n",
       "highestControversy                       3\n",
       "esgPerformance                  UNDER_PERF\n",
       "coal                                 False\n",
       "pesticides                           False\n",
       "adult                                False\n",
       "percentile                            7.55\n",
       "peerGroup              Software & Services\n",
       "smallArms                            False\n",
       "environmentScore                      0.47\n",
       "governancePercentile                  None\n",
       "militaryContract                     False"
      ],
      "text/html": "<div>\n<style scoped>\n    .dataframe tbody tr th:only-of-type {\n        vertical-align: middle;\n    }\n\n    .dataframe tbody tr th {\n        vertical-align: top;\n    }\n\n    .dataframe thead th {\n        text-align: right;\n    }\n</style>\n<table border=\"1\" class=\"dataframe\">\n  <thead>\n    <tr style=\"text-align: right;\">\n      <th></th>\n      <th>Value</th>\n    </tr>\n    <tr>\n      <th>2021-3</th>\n      <th></th>\n    </tr>\n  </thead>\n  <tbody>\n    <tr>\n      <th>palmOil</th>\n      <td>False</td>\n    </tr>\n    <tr>\n      <th>controversialWeapons</th>\n      <td>False</td>\n    </tr>\n    <tr>\n      <th>gambling</th>\n      <td>False</td>\n    </tr>\n    <tr>\n      <th>socialScore</th>\n      <td>9.37</td>\n    </tr>\n    <tr>\n      <th>nuclear</th>\n      <td>False</td>\n    </tr>\n    <tr>\n      <th>furLeather</th>\n      <td>False</td>\n    </tr>\n    <tr>\n      <th>alcoholic</th>\n      <td>False</td>\n    </tr>\n    <tr>\n      <th>gmo</th>\n      <td>False</td>\n    </tr>\n    <tr>\n      <th>catholic</th>\n      <td>False</td>\n    </tr>\n    <tr>\n      <th>socialPercentile</th>\n      <td>None</td>\n    </tr>\n    <tr>\n      <th>peerCount</th>\n      <td>103</td>\n    </tr>\n    <tr>\n      <th>governanceScore</th>\n      <td>4.9</td>\n    </tr>\n    <tr>\n      <th>environmentPercentile</th>\n      <td>None</td>\n    </tr>\n    <tr>\n      <th>animalTesting</th>\n      <td>False</td>\n    </tr>\n    <tr>\n      <th>tobacco</th>\n      <td>False</td>\n    </tr>\n    <tr>\n      <th>totalEsg</th>\n      <td>14.74</td>\n    </tr>\n    <tr>\n      <th>highestControversy</th>\n      <td>3</td>\n    </tr>\n    <tr>\n      <th>esgPerformance</th>\n      <td>UNDER_PERF</td>\n    </tr>\n    <tr>\n      <th>coal</th>\n      <td>False</td>\n    </tr>\n    <tr>\n      <th>pesticides</th>\n      <td>False</td>\n    </tr>\n    <tr>\n      <th>adult</th>\n      <td>False</td>\n    </tr>\n    <tr>\n      <th>percentile</th>\n      <td>7.55</td>\n    </tr>\n    <tr>\n      <th>peerGroup</th>\n      <td>Software &amp; Services</td>\n    </tr>\n    <tr>\n      <th>smallArms</th>\n      <td>False</td>\n    </tr>\n    <tr>\n      <th>environmentScore</th>\n      <td>0.47</td>\n    </tr>\n    <tr>\n      <th>governancePercentile</th>\n      <td>None</td>\n    </tr>\n    <tr>\n      <th>militaryContract</th>\n      <td>False</td>\n    </tr>\n  </tbody>\n</table>\n</div>"
     },
     "metadata": {},
     "execution_count": 18
    }
   ],
   "source": [
    "# show sustainability\n",
    "msft.sustainability"
   ]
  },
  {
   "cell_type": "code",
   "execution_count": 19,
   "metadata": {},
   "outputs": [
    {
     "output_type": "execute_result",
     "data": {
      "text/plain": [
       "                                  Firm       To Grade From Grade Action\n",
       "Date                                                                   \n",
       "2012-03-16 08:19:00     Argus Research            Buy                up\n",
       "2012-03-19 14:00:00     Hilliard Lyons  Long-Term Buy              main\n",
       "2012-03-22 07:03:00     Morgan Stanley     Overweight              main\n",
       "2012-04-03 11:53:00                UBS            Buy              main\n",
       "2012-04-20 06:18:00      Deutsche Bank            Buy              main\n",
       "...                                ...            ...        ...    ...\n",
       "2021-01-27 17:44:01  B of A Securities            Buy              main\n",
       "2021-01-28 18:11:05     Argus Research            Buy              main\n",
       "2021-02-02 10:28:34      Piper Sandler     Overweight              reit\n",
       "2021-02-16 13:32:33            Wedbush     Outperform              main\n",
       "2021-03-05 13:34:12     Morgan Stanley     Overweight              main\n",
       "\n",
       "[315 rows x 4 columns]"
      ],
      "text/html": "<div>\n<style scoped>\n    .dataframe tbody tr th:only-of-type {\n        vertical-align: middle;\n    }\n\n    .dataframe tbody tr th {\n        vertical-align: top;\n    }\n\n    .dataframe thead th {\n        text-align: right;\n    }\n</style>\n<table border=\"1\" class=\"dataframe\">\n  <thead>\n    <tr style=\"text-align: right;\">\n      <th></th>\n      <th>Firm</th>\n      <th>To Grade</th>\n      <th>From Grade</th>\n      <th>Action</th>\n    </tr>\n    <tr>\n      <th>Date</th>\n      <th></th>\n      <th></th>\n      <th></th>\n      <th></th>\n    </tr>\n  </thead>\n  <tbody>\n    <tr>\n      <th>2012-03-16 08:19:00</th>\n      <td>Argus Research</td>\n      <td>Buy</td>\n      <td></td>\n      <td>up</td>\n    </tr>\n    <tr>\n      <th>2012-03-19 14:00:00</th>\n      <td>Hilliard Lyons</td>\n      <td>Long-Term Buy</td>\n      <td></td>\n      <td>main</td>\n    </tr>\n    <tr>\n      <th>2012-03-22 07:03:00</th>\n      <td>Morgan Stanley</td>\n      <td>Overweight</td>\n      <td></td>\n      <td>main</td>\n    </tr>\n    <tr>\n      <th>2012-04-03 11:53:00</th>\n      <td>UBS</td>\n      <td>Buy</td>\n      <td></td>\n      <td>main</td>\n    </tr>\n    <tr>\n      <th>2012-04-20 06:18:00</th>\n      <td>Deutsche Bank</td>\n      <td>Buy</td>\n      <td></td>\n      <td>main</td>\n    </tr>\n    <tr>\n      <th>...</th>\n      <td>...</td>\n      <td>...</td>\n      <td>...</td>\n      <td>...</td>\n    </tr>\n    <tr>\n      <th>2021-01-27 17:44:01</th>\n      <td>B of A Securities</td>\n      <td>Buy</td>\n      <td></td>\n      <td>main</td>\n    </tr>\n    <tr>\n      <th>2021-01-28 18:11:05</th>\n      <td>Argus Research</td>\n      <td>Buy</td>\n      <td></td>\n      <td>main</td>\n    </tr>\n    <tr>\n      <th>2021-02-02 10:28:34</th>\n      <td>Piper Sandler</td>\n      <td>Overweight</td>\n      <td></td>\n      <td>reit</td>\n    </tr>\n    <tr>\n      <th>2021-02-16 13:32:33</th>\n      <td>Wedbush</td>\n      <td>Outperform</td>\n      <td></td>\n      <td>main</td>\n    </tr>\n    <tr>\n      <th>2021-03-05 13:34:12</th>\n      <td>Morgan Stanley</td>\n      <td>Overweight</td>\n      <td></td>\n      <td>main</td>\n    </tr>\n  </tbody>\n</table>\n<p>315 rows × 4 columns</p>\n</div>"
     },
     "metadata": {},
     "execution_count": 19
    }
   ],
   "source": [
    "# show analysts recommendations\n",
    "msft.recommendations"
   ]
  },
  {
   "cell_type": "code",
   "execution_count": 20,
   "metadata": {},
   "outputs": [
    {
     "output_type": "execute_result",
     "data": {
      "text/plain": [
       "                                    0                    1\n",
       "Earnings Date     2021-04-27 00:00:00  2021-05-03 00:00:00\n",
       "Earnings Average                 1.77                 1.77\n",
       "Earnings Low                     1.69                 1.69\n",
       "Earnings High                    1.93                 1.93\n",
       "Revenue Average           41032800000          41032800000\n",
       "Revenue Low               40541000000          40541000000\n",
       "Revenue High              41894000000          41894000000"
      ],
      "text/html": "<div>\n<style scoped>\n    .dataframe tbody tr th:only-of-type {\n        vertical-align: middle;\n    }\n\n    .dataframe tbody tr th {\n        vertical-align: top;\n    }\n\n    .dataframe thead th {\n        text-align: right;\n    }\n</style>\n<table border=\"1\" class=\"dataframe\">\n  <thead>\n    <tr style=\"text-align: right;\">\n      <th></th>\n      <th>0</th>\n      <th>1</th>\n    </tr>\n  </thead>\n  <tbody>\n    <tr>\n      <th>Earnings Date</th>\n      <td>2021-04-27 00:00:00</td>\n      <td>2021-05-03 00:00:00</td>\n    </tr>\n    <tr>\n      <th>Earnings Average</th>\n      <td>1.77</td>\n      <td>1.77</td>\n    </tr>\n    <tr>\n      <th>Earnings Low</th>\n      <td>1.69</td>\n      <td>1.69</td>\n    </tr>\n    <tr>\n      <th>Earnings High</th>\n      <td>1.93</td>\n      <td>1.93</td>\n    </tr>\n    <tr>\n      <th>Revenue Average</th>\n      <td>41032800000</td>\n      <td>41032800000</td>\n    </tr>\n    <tr>\n      <th>Revenue Low</th>\n      <td>40541000000</td>\n      <td>40541000000</td>\n    </tr>\n    <tr>\n      <th>Revenue High</th>\n      <td>41894000000</td>\n      <td>41894000000</td>\n    </tr>\n  </tbody>\n</table>\n</div>"
     },
     "metadata": {},
     "execution_count": 20
    }
   ],
   "source": [
    "# show next event (earnings, etc)\n",
    "msft.calendar"
   ]
  },
  {
   "cell_type": "code",
   "execution_count": 21,
   "metadata": {},
   "outputs": [
    {
     "output_type": "execute_result",
     "data": {
      "text/plain": [
       "'US5949181045'"
      ]
     },
     "metadata": {},
     "execution_count": 21
    }
   ],
   "source": [
    "# show ISIN code - *experimental*\n",
    "# ISIN = International Securities Identification Number\n",
    "msft.isin"
   ]
  },
  {
   "cell_type": "code",
   "execution_count": 23,
   "metadata": {},
   "outputs": [
    {
     "output_type": "execute_result",
     "data": {
      "text/plain": [
       "('2021-03-12',\n",
       " '2021-03-19',\n",
       " '2021-03-26',\n",
       " '2021-04-01',\n",
       " '2021-04-09',\n",
       " '2021-04-16',\n",
       " '2021-04-23',\n",
       " '2021-05-21',\n",
       " '2021-06-18',\n",
       " '2021-07-16',\n",
       " '2021-08-20',\n",
       " '2021-09-17',\n",
       " '2021-10-15',\n",
       " '2022-01-21',\n",
       " '2022-03-18',\n",
       " '2022-06-17',\n",
       " '2022-09-16',\n",
       " '2023-01-20',\n",
       " '2023-03-17',\n",
       " '2023-06-16')"
      ]
     },
     "metadata": {},
     "execution_count": 23
    }
   ],
   "source": [
    "# show options expirations\n",
    "msft.options"
   ]
  },
  {
   "cell_type": "code",
   "execution_count": 25,
   "metadata": {},
   "outputs": [
    {
     "output_type": "error",
     "ename": "ValueError",
     "evalue": "Expiration `YYYY-MM-DD` cannot be found. Available expiration are: [2021-03-12, 2021-03-19, 2021-03-26, 2021-04-01, 2021-04-09, 2021-04-16, 2021-04-23, 2021-05-21, 2021-06-18, 2021-07-16, 2021-08-20, 2021-09-17, 2021-10-15, 2022-01-21, 2022-03-18, 2022-06-17, 2022-09-16, 2023-01-20, 2023-03-17, 2023-06-16]",
     "traceback": [
      "\u001b[0;31m---------------------------------------------------------------------------\u001b[0m",
      "\u001b[0;31mValueError\u001b[0m                                Traceback (most recent call last)",
      "\u001b[0;32m<ipython-input-25-8094f0eede80>\u001b[0m in \u001b[0;36m<module>\u001b[0;34m\u001b[0m\n\u001b[1;32m      1\u001b[0m \u001b[0;31m# get option chain for specific expiration\u001b[0m\u001b[0;34m\u001b[0m\u001b[0;34m\u001b[0m\u001b[0;34m\u001b[0m\u001b[0m\n\u001b[0;32m----> 2\u001b[0;31m \u001b[0mopt\u001b[0m \u001b[0;34m=\u001b[0m \u001b[0mmsft\u001b[0m\u001b[0;34m.\u001b[0m\u001b[0moption_chain\u001b[0m\u001b[0;34m(\u001b[0m\u001b[0;34m'YYYY-MM-DD'\u001b[0m\u001b[0;34m)\u001b[0m\u001b[0;34m\u001b[0m\u001b[0;34m\u001b[0m\u001b[0m\n\u001b[0m\u001b[1;32m      3\u001b[0m \u001b[0;31m# data available via: opt.calls, opt.puts\u001b[0m\u001b[0;34m\u001b[0m\u001b[0;34m\u001b[0m\u001b[0;34m\u001b[0m\u001b[0m\n",
      "\u001b[0;32m~/repos/s-pd-dr/server/.venv/lib/python3.7/site-packages/yfinance/ticker.py\u001b[0m in \u001b[0;36moption_chain\u001b[0;34m(self, date, proxy, tz)\u001b[0m\n\u001b[1;32m     95\u001b[0m                     \u001b[0;34m\"Expiration `%s` cannot be found. \"\u001b[0m\u001b[0;34m\u001b[0m\u001b[0;34m\u001b[0m\u001b[0m\n\u001b[1;32m     96\u001b[0m                     \"Available expiration are: [%s]\" % (\n\u001b[0;32m---> 97\u001b[0;31m                         date, ', '.join(self._expirations)))\n\u001b[0m\u001b[1;32m     98\u001b[0m             \u001b[0mdate\u001b[0m \u001b[0;34m=\u001b[0m \u001b[0mself\u001b[0m\u001b[0;34m.\u001b[0m\u001b[0m_expirations\u001b[0m\u001b[0;34m[\u001b[0m\u001b[0mdate\u001b[0m\u001b[0;34m]\u001b[0m\u001b[0;34m\u001b[0m\u001b[0;34m\u001b[0m\u001b[0m\n\u001b[1;32m     99\u001b[0m             \u001b[0moptions\u001b[0m \u001b[0;34m=\u001b[0m \u001b[0mself\u001b[0m\u001b[0;34m.\u001b[0m\u001b[0m_download_options\u001b[0m\u001b[0;34m(\u001b[0m\u001b[0mdate\u001b[0m\u001b[0;34m,\u001b[0m \u001b[0mproxy\u001b[0m\u001b[0;34m=\u001b[0m\u001b[0mproxy\u001b[0m\u001b[0;34m)\u001b[0m\u001b[0;34m\u001b[0m\u001b[0;34m\u001b[0m\u001b[0m\n",
      "\u001b[0;31mValueError\u001b[0m: Expiration `YYYY-MM-DD` cannot be found. Available expiration are: [2021-03-12, 2021-03-19, 2021-03-26, 2021-04-01, 2021-04-09, 2021-04-16, 2021-04-23, 2021-05-21, 2021-06-18, 2021-07-16, 2021-08-20, 2021-09-17, 2021-10-15, 2022-01-21, 2022-03-18, 2022-06-17, 2022-09-16, 2023-01-20, 2023-03-17, 2023-06-16]"
     ]
    }
   ],
   "source": [
    "# get option chain for specific expiration\n",
    "opt = msft.option_chain('YYYY-MM-DD')\n",
    "# data available via: opt.calls, opt.puts"
   ]
  },
  {
   "source": [
    "# override pandas"
   ],
   "cell_type": "markdown",
   "metadata": {}
  },
  {
   "cell_type": "code",
   "execution_count": 12,
   "metadata": {},
   "outputs": [
    {
     "output_type": "execute_result",
     "data": {
      "text/plain": [
       "                  High         Low        Open       Close   Volume  \\\n",
       "Date                                                                  \n",
       "2016-09-01  771.020020  764.299988  769.250000  768.780029   925100   \n",
       "2016-09-02  773.919983  768.409973  773.010010  771.460022  1072700   \n",
       "2016-09-06  782.000000  771.000000  773.450012  780.080017  1442800   \n",
       "2016-09-07  782.729980  776.200012  780.000000  780.349976   893700   \n",
       "2016-09-08  780.349976  773.580017  778.590027  775.320007  1270300   \n",
       "\n",
       "             Adj Close  \n",
       "Date                    \n",
       "2016-09-01  768.780029  \n",
       "2016-09-02  771.460022  \n",
       "2016-09-06  780.080017  \n",
       "2016-09-07  780.349976  \n",
       "2016-09-08  775.320007  "
      ],
      "text/html": "<div>\n<style scoped>\n    .dataframe tbody tr th:only-of-type {\n        vertical-align: middle;\n    }\n\n    .dataframe tbody tr th {\n        vertical-align: top;\n    }\n\n    .dataframe thead th {\n        text-align: right;\n    }\n</style>\n<table border=\"1\" class=\"dataframe\">\n  <thead>\n    <tr style=\"text-align: right;\">\n      <th></th>\n      <th>High</th>\n      <th>Low</th>\n      <th>Open</th>\n      <th>Close</th>\n      <th>Volume</th>\n      <th>Adj Close</th>\n    </tr>\n    <tr>\n      <th>Date</th>\n      <th></th>\n      <th></th>\n      <th></th>\n      <th></th>\n      <th></th>\n      <th></th>\n    </tr>\n  </thead>\n  <tbody>\n    <tr>\n      <th>2016-09-01</th>\n      <td>771.020020</td>\n      <td>764.299988</td>\n      <td>769.250000</td>\n      <td>768.780029</td>\n      <td>925100</td>\n      <td>768.780029</td>\n    </tr>\n    <tr>\n      <th>2016-09-02</th>\n      <td>773.919983</td>\n      <td>768.409973</td>\n      <td>773.010010</td>\n      <td>771.460022</td>\n      <td>1072700</td>\n      <td>771.460022</td>\n    </tr>\n    <tr>\n      <th>2016-09-06</th>\n      <td>782.000000</td>\n      <td>771.000000</td>\n      <td>773.450012</td>\n      <td>780.080017</td>\n      <td>1442800</td>\n      <td>780.080017</td>\n    </tr>\n    <tr>\n      <th>2016-09-07</th>\n      <td>782.729980</td>\n      <td>776.200012</td>\n      <td>780.000000</td>\n      <td>780.349976</td>\n      <td>893700</td>\n      <td>780.349976</td>\n    </tr>\n    <tr>\n      <th>2016-09-08</th>\n      <td>780.349976</td>\n      <td>773.580017</td>\n      <td>778.590027</td>\n      <td>775.320007</td>\n      <td>1270300</td>\n      <td>775.320007</td>\n    </tr>\n  </tbody>\n</table>\n</div>"
     },
     "metadata": {},
     "execution_count": 12
    }
   ],
   "source": [
    "import pandas_datareader as pdr\n",
    "import yfinance as yf\n",
    "yf.pdr_override() \n",
    "# data = pdr.get_data_yahoo(\"SPY\", start=\"2017-01-01\", end=\"2017-04-30\")\n",
    "pdr.get_data_yahoo('GOOG',start=\"2016-9-1\").head()"
   ]
  },
  {
   "cell_type": "code",
   "execution_count": 7,
   "metadata": {},
   "outputs": [
    {
     "output_type": "execute_result",
     "data": {
      "text/plain": [
       "pandas.core.frame.DataFrame"
      ]
     },
     "metadata": {},
     "execution_count": 7
    }
   ],
   "source": [
    "type(data)"
   ]
  },
  {
   "cell_type": "code",
   "execution_count": 9,
   "metadata": {},
   "outputs": [
    {
     "output_type": "execute_result",
     "data": {
      "text/plain": [
       "'{\"Open\":{\"1483401600000\":225.0399932861,\"1483488000000\":225.6199951172,\"1483574400000\":226.2700042725,\"1483660800000\":226.5299987793,\"1483920000000\":226.9100036621},\"High\":{\"1483401600000\":225.8300018311,\"1483488000000\":226.75,\"1483574400000\":226.5800018311,\"1483660800000\":227.75,\"1483920000000\":227.0700073242},\"Low\":{\"1483401600000\":223.8800048828,\"1483488000000\":225.6100006104,\"1483574400000\":225.4799957275,\"1483660800000\":225.8999938965,\"1483920000000\":226.4199981689},\"Close\":{\"1483401600000\":225.2400054932,\"1483488000000\":226.5800018311,\"1483574400000\":226.3999938965,\"1483660800000\":227.2100067139,\"1483920000000\":226.4600067139},\"Adj Close\":{\"1483401600000\":208.8954467773,\"1483488000000\":210.1382446289,\"1483574400000\":209.9712677002,\"1483660800000\":210.7224731445,\"1483920000000\":210.0269165039},\"Volume\":{\"1483401600000\":91366500,\"1483488000000\":78744400,\"1483574400000\":78379000,\"1483660800000\":71559900,\"1483920000000\":46939700}}'"
      ]
     },
     "metadata": {},
     "execution_count": 9
    }
   ],
   "source": [
    "data.head().to_json()"
   ]
  },
  {
   "cell_type": "code",
   "execution_count": 11,
   "metadata": {},
   "outputs": [
    {
     "output_type": "execute_result",
     "data": {
      "text/plain": [
       "'{\"Open\":{\"1483401600000\":225.0399932861,\"1483488000000\":225.6199951172,\"1483574400000\":226.2700042725,\"1483660800000\":226.5299987793,\"1483920000000\":226.9100036621},\"High\":{\"1483401600000\":225.8300018311,\"1483488000000\":226.75,\"1483574400000\":226.5800018311,\"1483660800000\":227.75,\"1483920000000\":227.0700073242},\"Low\":{\"1483401600000\":223.8800048828,\"1483488000000\":225.6100006104,\"1483574400000\":225.4799957275,\"1483660800000\":225.8999938965,\"1483920000000\":226.4199981689},\"Close\":{\"1483401600000\":225.2400054932,\"1483488000000\":226.5800018311,\"1483574400000\":226.3999938965,\"1483660800000\":227.2100067139,\"1483920000000\":226.4600067139},\"Adj Close\":{\"1483401600000\":208.8954467773,\"1483488000000\":210.1382446289,\"1483574400000\":209.9712677002,\"1483660800000\":210.7224731445,\"1483920000000\":210.0269165039},\"Volume\":{\"1483401600000\":91366500,\"1483488000000\":78744400,\"1483574400000\":78379000,\"1483660800000\":71559900,\"1483920000000\":46939700},\"time\":{\"1483401600000\":1483401600000,\"1483488000000\":1483488000000,\"1483574400000\":1483574400000,\"1483660800000\":1483660800000,\"1483920000000\":1483920000000}}'"
      ]
     },
     "metadata": {},
     "execution_count": 11
    }
   ],
   "source": [
    "data[\"time\"] = data.index\n",
    "data.head().to_json()"
   ]
  },
  {
   "cell_type": "code",
   "execution_count": 13,
   "metadata": {},
   "outputs": [
    {
     "output_type": "error",
     "ename": "AttributeError",
     "evalue": "'str' object has no attribute 'to_json'",
     "traceback": [
      "\u001b[0;31m---------------------------------------------------------------------------\u001b[0m",
      "\u001b[0;31mAttributeError\u001b[0m                            Traceback (most recent call last)",
      "\u001b[0;32m<ipython-input-13-3fabe62adb0f>\u001b[0m in \u001b[0;36m<module>\u001b[0;34m\u001b[0m\n\u001b[0;32m----> 1\u001b[0;31m \u001b[0mdata\u001b[0m\u001b[0;34m.\u001b[0m\u001b[0mhead\u001b[0m\u001b[0;34m(\u001b[0m\u001b[0;34m)\u001b[0m\u001b[0;34m.\u001b[0m\u001b[0mto_csv\u001b[0m\u001b[0;34m(\u001b[0m\u001b[0;34m)\u001b[0m\u001b[0;34m.\u001b[0m\u001b[0mto_json\u001b[0m\u001b[0;34m(\u001b[0m\u001b[0;34m)\u001b[0m\u001b[0;34m\u001b[0m\u001b[0;34m\u001b[0m\u001b[0m\n\u001b[0m",
      "\u001b[0;31mAttributeError\u001b[0m: 'str' object has no attribute 'to_json'"
     ]
    }
   ],
   "source": [
    "data.head().to_csv().to_json()"
   ]
  }
 ]
}