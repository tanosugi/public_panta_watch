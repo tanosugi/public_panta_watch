{
 "metadata": {
  "language_info": {
   "codemirror_mode": {
    "name": "ipython",
    "version": 3
   },
   "file_extension": ".py",
   "mimetype": "text/x-python",
   "name": "python",
   "nbconvert_exporter": "python",
   "pygments_lexer": "ipython3",
   "version": "3.8.1"
  },
  "orig_nbformat": 2,
  "kernelspec": {
   "name": "python381jvsc74a57bd0ef983373bcae7356993dc0a103aa95feff231b61e25202b0c6263dd5180b1c4f",
   "display_name": "Python 3.8.1 64-bit ('.venv': venv)"
  }
 },
 "nbformat": 4,
 "nbformat_minor": 2,
 "cells": [
  {
   "source": [
    "# 1.Tiingo"
   ],
   "cell_type": "markdown",
   "metadata": {}
  },
  {
   "cell_type": "code",
   "execution_count": 5,
   "metadata": {},
   "outputs": [
    {
     "output_type": "execute_result",
     "data": {
      "text/plain": [
       "                            close      high  ...  divCash  splitFactor\n",
       "date                                         ...                      \n",
       "2016-09-01 00:00:00+00:00  768.78  771.0200  ...      0.0          1.0\n",
       "2016-09-02 00:00:00+00:00  771.46  773.9199  ...      0.0          1.0\n",
       "2016-09-06 00:00:00+00:00  780.08  782.0000  ...      0.0          1.0\n",
       "2016-09-07 00:00:00+00:00  780.35  782.7300  ...      0.0          1.0\n",
       "2016-09-08 00:00:00+00:00  775.32  780.3500  ...      0.0          1.0\n",
       "\n",
       "[5 rows x 12 columns]"
      ],
      "text/html": "<div>\n<style scoped>\n    .dataframe tbody tr th:only-of-type {\n        vertical-align: middle;\n    }\n\n    .dataframe tbody tr th {\n        vertical-align: top;\n    }\n\n    .dataframe thead th {\n        text-align: right;\n    }\n</style>\n<table border=\"1\" class=\"dataframe\">\n  <thead>\n    <tr style=\"text-align: right;\">\n      <th></th>\n      <th>close</th>\n      <th>high</th>\n      <th>low</th>\n      <th>open</th>\n      <th>volume</th>\n      <th>adjClose</th>\n      <th>adjHigh</th>\n      <th>adjLow</th>\n      <th>adjOpen</th>\n      <th>adjVolume</th>\n      <th>divCash</th>\n      <th>splitFactor</th>\n    </tr>\n    <tr>\n      <th>date</th>\n      <th></th>\n      <th></th>\n      <th></th>\n      <th></th>\n      <th></th>\n      <th></th>\n      <th></th>\n      <th></th>\n      <th></th>\n      <th></th>\n      <th></th>\n      <th></th>\n    </tr>\n  </thead>\n  <tbody>\n    <tr>\n      <th>2016-09-01 00:00:00+00:00</th>\n      <td>768.78</td>\n      <td>771.0200</td>\n      <td>764.30</td>\n      <td>769.25</td>\n      <td>925131</td>\n      <td>768.78</td>\n      <td>771.0200</td>\n      <td>764.30</td>\n      <td>769.25</td>\n      <td>925131</td>\n      <td>0.0</td>\n      <td>1.0</td>\n    </tr>\n    <tr>\n      <th>2016-09-02 00:00:00+00:00</th>\n      <td>771.46</td>\n      <td>773.9199</td>\n      <td>768.41</td>\n      <td>773.01</td>\n      <td>1072658</td>\n      <td>771.46</td>\n      <td>773.9199</td>\n      <td>768.41</td>\n      <td>773.01</td>\n      <td>1072658</td>\n      <td>0.0</td>\n      <td>1.0</td>\n    </tr>\n    <tr>\n      <th>2016-09-06 00:00:00+00:00</th>\n      <td>780.08</td>\n      <td>782.0000</td>\n      <td>771.00</td>\n      <td>773.45</td>\n      <td>1442822</td>\n      <td>780.08</td>\n      <td>782.0000</td>\n      <td>771.00</td>\n      <td>773.45</td>\n      <td>1442822</td>\n      <td>0.0</td>\n      <td>1.0</td>\n    </tr>\n    <tr>\n      <th>2016-09-07 00:00:00+00:00</th>\n      <td>780.35</td>\n      <td>782.7300</td>\n      <td>776.20</td>\n      <td>780.00</td>\n      <td>894021</td>\n      <td>780.35</td>\n      <td>782.7300</td>\n      <td>776.20</td>\n      <td>780.00</td>\n      <td>894021</td>\n      <td>0.0</td>\n      <td>1.0</td>\n    </tr>\n    <tr>\n      <th>2016-09-08 00:00:00+00:00</th>\n      <td>775.32</td>\n      <td>780.3500</td>\n      <td>773.58</td>\n      <td>778.59</td>\n      <td>1270264</td>\n      <td>775.32</td>\n      <td>780.3500</td>\n      <td>773.58</td>\n      <td>778.59</td>\n      <td>1270264</td>\n      <td>0.0</td>\n      <td>1.0</td>\n    </tr>\n  </tbody>\n</table>\n</div>"
     },
     "metadata": {},
     "execution_count": 5
    }
   ],
   "source": [
    "import pandas_datareader.data as web\n",
    "from datetime import datetime\n",
    "api_key=\"d1fdf41ea66b0a24fdce76c229732572179ab3ab\"\n",
    "web.DataReader('GOOG', \"tiingo\",api_key=api_key,start=datetime(2016,9,1)).reset_index(level=\"symbol\",drop=True).head()"
   ]
  },
  {
   "source": [
    "# 2.IEX"
   ],
   "cell_type": "markdown",
   "metadata": {}
  },
  {
   "cell_type": "code",
   "execution_count": 5,
   "metadata": {},
   "outputs": [
    {
     "output_type": "execute_result",
     "data": {
      "text/plain": [
       "              open      high     low   close   volume\n",
       "date                                                 \n",
       "2016-09-01  769.25  771.0200  764.30  768.78   925131\n",
       "2016-09-02  773.01  773.9199  768.41  771.46  1072658\n",
       "2016-09-06  773.45  782.0000  771.00  780.08  1442822\n",
       "2016-09-07  780.00  782.7300  776.20  780.35   894021\n",
       "2016-09-08  778.59  780.3500  773.58  775.32  1270264"
      ],
      "text/html": "<div>\n<style scoped>\n    .dataframe tbody tr th:only-of-type {\n        vertical-align: middle;\n    }\n\n    .dataframe tbody tr th {\n        vertical-align: top;\n    }\n\n    .dataframe thead th {\n        text-align: right;\n    }\n</style>\n<table border=\"1\" class=\"dataframe\">\n  <thead>\n    <tr style=\"text-align: right;\">\n      <th></th>\n      <th>open</th>\n      <th>high</th>\n      <th>low</th>\n      <th>close</th>\n      <th>volume</th>\n    </tr>\n    <tr>\n      <th>date</th>\n      <th></th>\n      <th></th>\n      <th></th>\n      <th></th>\n      <th></th>\n    </tr>\n  </thead>\n  <tbody>\n    <tr>\n      <th>2016-09-01</th>\n      <td>769.25</td>\n      <td>771.0200</td>\n      <td>764.30</td>\n      <td>768.78</td>\n      <td>925131</td>\n    </tr>\n    <tr>\n      <th>2016-09-02</th>\n      <td>773.01</td>\n      <td>773.9199</td>\n      <td>768.41</td>\n      <td>771.46</td>\n      <td>1072658</td>\n    </tr>\n    <tr>\n      <th>2016-09-06</th>\n      <td>773.45</td>\n      <td>782.0000</td>\n      <td>771.00</td>\n      <td>780.08</td>\n      <td>1442822</td>\n    </tr>\n    <tr>\n      <th>2016-09-07</th>\n      <td>780.00</td>\n      <td>782.7300</td>\n      <td>776.20</td>\n      <td>780.35</td>\n      <td>894021</td>\n    </tr>\n    <tr>\n      <th>2016-09-08</th>\n      <td>778.59</td>\n      <td>780.3500</td>\n      <td>773.58</td>\n      <td>775.32</td>\n      <td>1270264</td>\n    </tr>\n  </tbody>\n</table>\n</div>"
     },
     "metadata": {},
     "execution_count": 5
    }
   ],
   "source": [
    "import pandas_datareader.data as web\n",
    "from datetime import datetime\n",
    "api_key=\"pk_687865905ec7464bac41c16a187f1248\"\n",
    "web.DataReader('GOOG', \"iex\",api_key=api_key,start=datetime(2016,9,1)).head()"
   ]
  },
  {
   "source": [
    "# 3.Alpha Vantage"
   ],
   "cell_type": "markdown",
   "metadata": {}
  },
  {
   "cell_type": "code",
   "execution_count": 3,
   "metadata": {},
   "outputs": [
    {
     "output_type": "execute_result",
     "data": {
      "text/plain": [
       "              open      high     low   close   volume\n",
       "2016-09-01  769.25  771.0200  764.30  768.78   925131\n",
       "2016-09-02  773.01  773.9199  768.41  771.46  1072658\n",
       "2016-09-06  773.45  782.0000  771.00  780.08  1442822\n",
       "2016-09-07  780.00  782.7300  776.20  780.35   894021\n",
       "2016-09-08  778.59  780.3500  773.58  775.32  1270264"
      ],
      "text/html": "<div>\n<style scoped>\n    .dataframe tbody tr th:only-of-type {\n        vertical-align: middle;\n    }\n\n    .dataframe tbody tr th {\n        vertical-align: top;\n    }\n\n    .dataframe thead th {\n        text-align: right;\n    }\n</style>\n<table border=\"1\" class=\"dataframe\">\n  <thead>\n    <tr style=\"text-align: right;\">\n      <th></th>\n      <th>open</th>\n      <th>high</th>\n      <th>low</th>\n      <th>close</th>\n      <th>volume</th>\n    </tr>\n  </thead>\n  <tbody>\n    <tr>\n      <th>2016-09-01</th>\n      <td>769.25</td>\n      <td>771.0200</td>\n      <td>764.30</td>\n      <td>768.78</td>\n      <td>925131</td>\n    </tr>\n    <tr>\n      <th>2016-09-02</th>\n      <td>773.01</td>\n      <td>773.9199</td>\n      <td>768.41</td>\n      <td>771.46</td>\n      <td>1072658</td>\n    </tr>\n    <tr>\n      <th>2016-09-06</th>\n      <td>773.45</td>\n      <td>782.0000</td>\n      <td>771.00</td>\n      <td>780.08</td>\n      <td>1442822</td>\n    </tr>\n    <tr>\n      <th>2016-09-07</th>\n      <td>780.00</td>\n      <td>782.7300</td>\n      <td>776.20</td>\n      <td>780.35</td>\n      <td>894021</td>\n    </tr>\n    <tr>\n      <th>2016-09-08</th>\n      <td>778.59</td>\n      <td>780.3500</td>\n      <td>773.58</td>\n      <td>775.32</td>\n      <td>1270264</td>\n    </tr>\n  </tbody>\n</table>\n</div>"
     },
     "metadata": {},
     "execution_count": 3
    }
   ],
   "source": [
    "import pandas_datareader.data as web\n",
    "from datetime import datetime\n",
    "api_key=\"5UWLPUS1F7O7RFQ0\"\n",
    "web.DataReader('GOOG', \"av-daily\",api_key=api_key,start=datetime(2016,9,1)).head()"
   ]
  },
  {
   "cell_type": "code",
   "execution_count": 37,
   "metadata": {},
   "outputs": [
    {
     "output_type": "execute_result",
     "data": {
      "text/plain": [
       "               open     high      low    close\n",
       "2016-09-01  103.325  103.998  103.029  103.184\n",
       "2016-09-02  103.190  104.320  102.794  103.975\n",
       "2016-09-05  104.056  104.074  103.120  103.436\n",
       "2016-09-06  103.437  103.808  101.899  102.101\n",
       "2016-09-07  102.100  102.109  101.190  101.701"
      ],
      "text/html": "<div>\n<style scoped>\n    .dataframe tbody tr th:only-of-type {\n        vertical-align: middle;\n    }\n\n    .dataframe tbody tr th {\n        vertical-align: top;\n    }\n\n    .dataframe thead th {\n        text-align: right;\n    }\n</style>\n<table border=\"1\" class=\"dataframe\">\n  <thead>\n    <tr style=\"text-align: right;\">\n      <th></th>\n      <th>open</th>\n      <th>high</th>\n      <th>low</th>\n      <th>close</th>\n    </tr>\n  </thead>\n  <tbody>\n    <tr>\n      <th>2016-09-01</th>\n      <td>103.325</td>\n      <td>103.998</td>\n      <td>103.029</td>\n      <td>103.184</td>\n    </tr>\n    <tr>\n      <th>2016-09-02</th>\n      <td>103.190</td>\n      <td>104.320</td>\n      <td>102.794</td>\n      <td>103.975</td>\n    </tr>\n    <tr>\n      <th>2016-09-05</th>\n      <td>104.056</td>\n      <td>104.074</td>\n      <td>103.120</td>\n      <td>103.436</td>\n    </tr>\n    <tr>\n      <th>2016-09-06</th>\n      <td>103.437</td>\n      <td>103.808</td>\n      <td>101.899</td>\n      <td>102.101</td>\n    </tr>\n    <tr>\n      <th>2016-09-07</th>\n      <td>102.100</td>\n      <td>102.109</td>\n      <td>101.190</td>\n      <td>101.701</td>\n    </tr>\n  </tbody>\n</table>\n</div>"
     },
     "metadata": {},
     "execution_count": 37
    }
   ],
   "source": [
    "import pandas_datareader.data as web\n",
    "from datetime import datetime\n",
    "api_key=\"5UWLPUS1F7O7RFQ0\"\n",
    "web.DataReader('USD/JPY', \"av-forex-daily\",api_key=api_key,start=datetime(2016,9,1)).head()"
   ]
  },
  {
   "cell_type": "code",
   "execution_count": 39,
   "metadata": {},
   "outputs": [
    {
     "output_type": "execute_result",
     "data": {
      "text/plain": [
       "                           RT      1D     5D      1M      3M     YTD      1Y  \\\n",
       "Utilities               0.69%   1.28%  4.41%  -1.56%   0.23%  -1.31%   2.76%   \n",
       "Industrials             0.39%   1.34%  3.57%   7.73%   9.12%   8.89%  49.30%   \n",
       "Consumer Staples        0.36%   0.71%  2.15%   0.22%  -2.18%  -2.97%  14.20%   \n",
       "Communication Services  0.22%  -0.90%  0.71%   0.85%   8.22%   7.88%  51.09%   \n",
       "Consumer Discretionary  0.10%   0.10%  5.74%  -2.64%   5.58%   2.12%  56.52%   \n",
       "\n",
       "                            3Y       5Y      10Y  \n",
       "Utilities               26.53%   29.57%   92.03%  \n",
       "Industrials             24.12%   74.19%  157.46%  \n",
       "Consumer Staples        20.51%   26.11%  120.97%  \n",
       "Communication Services  52.59%   42.11%   90.44%  \n",
       "Consumer Discretionary  57.56%  117.47%  333.10%  "
      ],
      "text/html": "<div>\n<style scoped>\n    .dataframe tbody tr th:only-of-type {\n        vertical-align: middle;\n    }\n\n    .dataframe tbody tr th {\n        vertical-align: top;\n    }\n\n    .dataframe thead th {\n        text-align: right;\n    }\n</style>\n<table border=\"1\" class=\"dataframe\">\n  <thead>\n    <tr style=\"text-align: right;\">\n      <th></th>\n      <th>RT</th>\n      <th>1D</th>\n      <th>5D</th>\n      <th>1M</th>\n      <th>3M</th>\n      <th>YTD</th>\n      <th>1Y</th>\n      <th>3Y</th>\n      <th>5Y</th>\n      <th>10Y</th>\n    </tr>\n  </thead>\n  <tbody>\n    <tr>\n      <th>Utilities</th>\n      <td>0.69%</td>\n      <td>1.28%</td>\n      <td>4.41%</td>\n      <td>-1.56%</td>\n      <td>0.23%</td>\n      <td>-1.31%</td>\n      <td>2.76%</td>\n      <td>26.53%</td>\n      <td>29.57%</td>\n      <td>92.03%</td>\n    </tr>\n    <tr>\n      <th>Industrials</th>\n      <td>0.39%</td>\n      <td>1.34%</td>\n      <td>3.57%</td>\n      <td>7.73%</td>\n      <td>9.12%</td>\n      <td>8.89%</td>\n      <td>49.30%</td>\n      <td>24.12%</td>\n      <td>74.19%</td>\n      <td>157.46%</td>\n    </tr>\n    <tr>\n      <th>Consumer Staples</th>\n      <td>0.36%</td>\n      <td>0.71%</td>\n      <td>2.15%</td>\n      <td>0.22%</td>\n      <td>-2.18%</td>\n      <td>-2.97%</td>\n      <td>14.20%</td>\n      <td>20.51%</td>\n      <td>26.11%</td>\n      <td>120.97%</td>\n    </tr>\n    <tr>\n      <th>Communication Services</th>\n      <td>0.22%</td>\n      <td>-0.90%</td>\n      <td>0.71%</td>\n      <td>0.85%</td>\n      <td>8.22%</td>\n      <td>7.88%</td>\n      <td>51.09%</td>\n      <td>52.59%</td>\n      <td>42.11%</td>\n      <td>90.44%</td>\n    </tr>\n    <tr>\n      <th>Consumer Discretionary</th>\n      <td>0.10%</td>\n      <td>0.10%</td>\n      <td>5.74%</td>\n      <td>-2.64%</td>\n      <td>5.58%</td>\n      <td>2.12%</td>\n      <td>56.52%</td>\n      <td>57.56%</td>\n      <td>117.47%</td>\n      <td>333.10%</td>\n    </tr>\n  </tbody>\n</table>\n</div>"
     },
     "metadata": {},
     "execution_count": 39
    }
   ],
   "source": [
    "import pandas_datareader.data as web\n",
    "api_key=\"5UWLPUS1F7O7RFQ0\"\n",
    "web.get_sector_performance_av(api_key=api_key).head()"
   ]
  },
  {
   "source": [
    "# 4.Econdb"
   ],
   "cell_type": "markdown",
   "metadata": {}
  },
  {
   "cell_type": "code",
   "execution_count": 11,
   "metadata": {},
   "outputs": [
    {
     "output_type": "execute_result",
     "data": {
      "text/plain": [
       "TableName                                                                                                                                   T10106\n",
       "SeriesCode                                                                                                                                  A191RX\n",
       "Table                                                                            Table 1.1.6. Real Gross Domestic Product, Chained Dollars (A) (Q)\n",
       "Series description                                                                                                          Gross domestic product\n",
       "CL_UNIT                                                                                                                                      Level\n",
       "CL_FREQ                                                                                                                                          Q\n",
       "Note               Table 1.1.6. Real Gross Domestic Product, Chained Dollars [Billions of chained (2012) dollars] - LastRevised: February 25, 2021\n",
       "TIME_PERIOD                                                                                                                                       \n",
       "2016-10-01                                                   17876180                                                                             \n",
       "2017-01-01                                                   17977300                                                                             \n",
       "2017-04-01                                                   18054052                                                                             \n",
       "2017-07-01                                                   18185636                                                                             \n",
       "2017-10-01                                                   18359432                                                                             "
      ],
      "text/html": "<div>\n<style scoped>\n    .dataframe tbody tr th:only-of-type {\n        vertical-align: middle;\n    }\n\n    .dataframe tbody tr th {\n        vertical-align: top;\n    }\n\n    .dataframe thead tr th {\n        text-align: left;\n    }\n\n    .dataframe thead tr:last-of-type th {\n        text-align: right;\n    }\n</style>\n<table border=\"1\" class=\"dataframe\">\n  <thead>\n    <tr>\n      <th>TableName</th>\n      <th>T10106</th>\n    </tr>\n    <tr>\n      <th>SeriesCode</th>\n      <th>A191RX</th>\n    </tr>\n    <tr>\n      <th>Table</th>\n      <th>Table 1.1.6. Real Gross Domestic Product, Chained Dollars (A) (Q)</th>\n    </tr>\n    <tr>\n      <th>Series description</th>\n      <th>Gross domestic product</th>\n    </tr>\n    <tr>\n      <th>CL_UNIT</th>\n      <th>Level</th>\n    </tr>\n    <tr>\n      <th>CL_FREQ</th>\n      <th>Q</th>\n    </tr>\n    <tr>\n      <th>Note</th>\n      <th>Table 1.1.6. Real Gross Domestic Product, Chained Dollars [Billions of chained (2012) dollars] - LastRevised: February 25, 2021</th>\n    </tr>\n    <tr>\n      <th>TIME_PERIOD</th>\n      <th></th>\n    </tr>\n  </thead>\n  <tbody>\n    <tr>\n      <th>2016-10-01</th>\n      <td>17876180</td>\n    </tr>\n    <tr>\n      <th>2017-01-01</th>\n      <td>17977300</td>\n    </tr>\n    <tr>\n      <th>2017-04-01</th>\n      <td>18054052</td>\n    </tr>\n    <tr>\n      <th>2017-07-01</th>\n      <td>18185636</td>\n    </tr>\n    <tr>\n      <th>2017-10-01</th>\n      <td>18359432</td>\n    </tr>\n  </tbody>\n</table>\n</div>"
     },
     "metadata": {},
     "execution_count": 11
    }
   ],
   "source": [
    "import pandas_datareader.data as web\n",
    "from datetime import datetime\n",
    "web.DataReader('ticker=RGDPUS', 'econdb',start=datetime(2016,9,1)).head()  # .to_json(orient=\"split\")\n"
   ]
  },
  {
   "source": [
    "# 5. Quandle"
   ],
   "cell_type": "markdown",
   "metadata": {}
  },
  {
   "cell_type": "code",
   "execution_count": 1,
   "metadata": {},
   "outputs": [
    {
     "output_type": "execute_result",
     "data": {
      "text/plain": [
       "            LabourForce:Total  LabourForce:1564  LabourForce:1524  \\\n",
       "Year                                                                \n",
       "2018-12-31             6830.0            5955.0             583.0   \n",
       "2017-12-31             6720.0            5899.0             545.0   \n",
       "2016-12-31             6673.0            5887.0             539.0   \n",
       "\n",
       "            LabourForce:2534  LabourForce:3544  LabourForce:4554  \\\n",
       "Year                                                               \n",
       "2018-12-31            1160.0            1469.0            1567.0   \n",
       "2017-12-31            1167.0            1497.0            1526.0   \n",
       "2016-12-31            1180.0            1527.0            1482.0   \n",
       "\n",
       "            LabourForce:5564  LabourForce:65+  LabourForceRate:Total  \\\n",
       "Year                                                                   \n",
       "2018-12-31            1175.0            875.0                 6289.0   \n",
       "2017-12-31            1164.0            822.0                 6252.0   \n",
       "2016-12-31            1159.0            786.0                 6232.0   \n",
       "\n",
       "            LabourForceRate:1564  LabourForceRate:1524  LabourForceRate:2534  \\\n",
       "Year                                                                           \n",
       "2018-12-31                  61.5                  78.9                  47.6   \n",
       "2017-12-31                  60.5                  77.6                  44.6   \n",
       "2016-12-31                  60.0                  76.8                  44.8   \n",
       "\n",
       "            LabourForceRate:3544  LabourForceRate:4554  LabourForceRate:5564  \\\n",
       "Year                                                                           \n",
       "2018-12-31                  87.8                  87.0                  87.4   \n",
       "2017-12-31                  86.8                  85.9                  87.2   \n",
       "2016-12-31                  86.1                  85.2                  86.8   \n",
       "\n",
       "            LabourForceRate:65+  \n",
       "Year                             \n",
       "2018-12-31                 77.0  \n",
       "2017-12-31                 75.4  \n",
       "2016-12-31                 73.5  "
      ],
      "text/html": "<div>\n<style scoped>\n    .dataframe tbody tr th:only-of-type {\n        vertical-align: middle;\n    }\n\n    .dataframe tbody tr th {\n        vertical-align: top;\n    }\n\n    .dataframe thead th {\n        text-align: right;\n    }\n</style>\n<table border=\"1\" class=\"dataframe\">\n  <thead>\n    <tr style=\"text-align: right;\">\n      <th></th>\n      <th>LabourForce:Total</th>\n      <th>LabourForce:1564</th>\n      <th>LabourForce:1524</th>\n      <th>LabourForce:2534</th>\n      <th>LabourForce:3544</th>\n      <th>LabourForce:4554</th>\n      <th>LabourForce:5564</th>\n      <th>LabourForce:65+</th>\n      <th>LabourForceRate:Total</th>\n      <th>LabourForceRate:1564</th>\n      <th>LabourForceRate:1524</th>\n      <th>LabourForceRate:2534</th>\n      <th>LabourForceRate:3544</th>\n      <th>LabourForceRate:4554</th>\n      <th>LabourForceRate:5564</th>\n      <th>LabourForceRate:65+</th>\n    </tr>\n    <tr>\n      <th>Year</th>\n      <th></th>\n      <th></th>\n      <th></th>\n      <th></th>\n      <th></th>\n      <th></th>\n      <th></th>\n      <th></th>\n      <th></th>\n      <th></th>\n      <th></th>\n      <th></th>\n      <th></th>\n      <th></th>\n      <th></th>\n      <th></th>\n    </tr>\n  </thead>\n  <tbody>\n    <tr>\n      <th>2018-12-31</th>\n      <td>6830.0</td>\n      <td>5955.0</td>\n      <td>583.0</td>\n      <td>1160.0</td>\n      <td>1469.0</td>\n      <td>1567.0</td>\n      <td>1175.0</td>\n      <td>875.0</td>\n      <td>6289.0</td>\n      <td>61.5</td>\n      <td>78.9</td>\n      <td>47.6</td>\n      <td>87.8</td>\n      <td>87.0</td>\n      <td>87.4</td>\n      <td>77.0</td>\n    </tr>\n    <tr>\n      <th>2017-12-31</th>\n      <td>6720.0</td>\n      <td>5899.0</td>\n      <td>545.0</td>\n      <td>1167.0</td>\n      <td>1497.0</td>\n      <td>1526.0</td>\n      <td>1164.0</td>\n      <td>822.0</td>\n      <td>6252.0</td>\n      <td>60.5</td>\n      <td>77.6</td>\n      <td>44.6</td>\n      <td>86.8</td>\n      <td>85.9</td>\n      <td>87.2</td>\n      <td>75.4</td>\n    </tr>\n    <tr>\n      <th>2016-12-31</th>\n      <td>6673.0</td>\n      <td>5887.0</td>\n      <td>539.0</td>\n      <td>1180.0</td>\n      <td>1527.0</td>\n      <td>1482.0</td>\n      <td>1159.0</td>\n      <td>786.0</td>\n      <td>6232.0</td>\n      <td>60.0</td>\n      <td>76.8</td>\n      <td>44.8</td>\n      <td>86.1</td>\n      <td>85.2</td>\n      <td>86.8</td>\n      <td>73.5</td>\n    </tr>\n  </tbody>\n</table>\n</div>"
     },
     "metadata": {},
     "execution_count": 1
    }
   ],
   "source": [
    "import pandas_datareader.data as web\n",
    "from datetime import datetime\n",
    "api_key=\"vhfF-yBPBtKTyFGnrdGt\"\n",
    "web.DataReader(\"SBJ/0307\",\"quandl\",api_key=api_key,start=datetime(2016,9,1)).head()\n"
   ]
  },
  {
   "source": [
    "# 6.Fred"
   ],
   "cell_type": "markdown",
   "metadata": {}
  },
  {
   "cell_type": "code",
   "execution_count": 2,
   "metadata": {},
   "outputs": [
    {
     "output_type": "execute_result",
     "data": {
      "text/plain": [
       "                  GDP\n",
       "DATE                 \n",
       "2016-10-01  19032.580\n",
       "2017-01-01  19237.435\n",
       "2017-04-01  19379.232\n",
       "2017-07-01  19617.288\n",
       "2017-10-01  19937.963"
      ],
      "text/html": "<div>\n<style scoped>\n    .dataframe tbody tr th:only-of-type {\n        vertical-align: middle;\n    }\n\n    .dataframe tbody tr th {\n        vertical-align: top;\n    }\n\n    .dataframe thead th {\n        text-align: right;\n    }\n</style>\n<table border=\"1\" class=\"dataframe\">\n  <thead>\n    <tr style=\"text-align: right;\">\n      <th></th>\n      <th>GDP</th>\n    </tr>\n    <tr>\n      <th>DATE</th>\n      <th></th>\n    </tr>\n  </thead>\n  <tbody>\n    <tr>\n      <th>2016-10-01</th>\n      <td>19032.580</td>\n    </tr>\n    <tr>\n      <th>2017-01-01</th>\n      <td>19237.435</td>\n    </tr>\n    <tr>\n      <th>2017-04-01</th>\n      <td>19379.232</td>\n    </tr>\n    <tr>\n      <th>2017-07-01</th>\n      <td>19617.288</td>\n    </tr>\n    <tr>\n      <th>2017-10-01</th>\n      <td>19937.963</td>\n    </tr>\n  </tbody>\n</table>\n</div>"
     },
     "metadata": {},
     "execution_count": 2
    }
   ],
   "source": [
    "import pandas_datareader.data as web\n",
    "from datetime import datetime\n",
    "web.DataReader(\"GDP\",\"fred\",start=datetime(2016,9,1)).head()"
   ]
  },
  {
   "source": [
    "# 7.Fama French"
   ],
   "cell_type": "markdown",
   "metadata": {}
  },
  {
   "cell_type": "code",
   "execution_count": 11,
   "metadata": {},
   "outputs": [
    {
     "output_type": "execute_result",
     "data": {
      "text/plain": [
       "{0:          Cnsmr  Manuf  HiTec  Hlth   Other\n",
       " Date                                      \n",
       " 2016-09  -1.44   1.05   2.03   0.35  -1.25\n",
       " 2016-10  -2.52  -2.31  -1.46  -7.44   0.59\n",
       " 2016-11   1.53   5.29   1.65   1.38  11.27\n",
       " 2016-12   1.33   1.57   1.62   0.85   2.94,\n",
       " 1:          Cnsmr  Manuf  HiTec  Hlth   Other\n",
       " Date                                      \n",
       " 2016-09  -0.69   1.82   1.85   7.91   0.86\n",
       " 2016-10  -4.17  -4.56  -5.13 -13.66  -2.19\n",
       " 2016-11   8.12  11.84   5.03   5.28  12.92\n",
       " 2016-12   1.86   1.61   0.74  -2.62   5.42,\n",
       " 2:       Cnsmr  Manuf  HiTec  Hlth   Other\n",
       " Date                                   \n",
       " 2016   5.52  20.33  13.81  -4.47  20.07,\n",
       " 3:       Cnsmr  Manuf  HiTec  Hlth   Other\n",
       " Date                                   \n",
       " 2016  16.43  32.64  17.18 -11.49  30.57,\n",
       " 4:          Cnsmr  Manuf  HiTec  Hlth   Other\n",
       " Date                                      \n",
       " 2016-09    534    615    705    609   1090\n",
       " 2016-10    530    613    699    604   1087\n",
       " 2016-11    529    611    688    600   1084\n",
       " 2016-12    527    609    681    597   1075,\n",
       " 5:            Cnsmr    Manuf    HiTec    Hlth     Other\n",
       " Date                                                \n",
       " 2016-09  8041.47  7101.54  8915.12  4275.71  5413.28\n",
       " 2016-10  7969.70  7169.90  9166.29  4318.66  5343.15\n",
       " 2016-11  7777.05  7014.08  9126.56  4019.34  5384.81\n",
       " 2016-12  7897.03  7378.85  9307.00  4078.44  6025.49,\n",
       " 6:       Cnsmr  Manuf  HiTec  Hlth   Other\n",
       " Date                                   \n",
       " 2016   0.23   0.41   0.27   0.22    0.6,\n",
       " 7:       Cnsmr  Manuf  HiTec  Hlth   Other\n",
       " Date                                   \n",
       " 2016   0.24   0.47   0.28   0.22   0.56,\n",
       " 'DESCR': '5 Industry Portfolios\\n---------------------\\n\\nThis file was created by CMPT_IND_RETS using the 202101 CRSP database. It contains value- and equal-weighted returns for 5 industry portfolios. The portfolios are constructed at the end of June. The annual returns are from January to December. Missing data are indicated by -99.99 or -999. Copyright 2021 Kenneth R. French\\n\\n  0 : Average Value Weighted Returns -- Monthly (4 rows x 5 cols)\\n  1 : Average Equal Weighted Returns -- Monthly (4 rows x 5 cols)\\n  2 : Average Value Weighted Returns -- Annual (1 rows x 5 cols)\\n  3 : Average Equal Weighted Returns -- Annual (1 rows x 5 cols)\\n  4 : Number of Firms in Portfolios (4 rows x 5 cols)\\n  5 : Average Firm Size (4 rows x 5 cols)\\n  6 : Sum of BE / Sum of ME (1 rows x 5 cols)\\n  7 : Value-Weighted Average of BE/ME (1 rows x 5 cols)'}"
      ]
     },
     "metadata": {},
     "execution_count": 11
    }
   ],
   "source": [
    "import pandas_datareader.data as web\n",
    "from datetime import datetime\n",
    "web.DataReader('5_Industry_Portfolios', 'famafrench',start=datetime(2016,9,1),end=datetime(2016,12,1))"
   ]
  },
  {
   "source": [
    "# 8.World Bank"
   ],
   "cell_type": "markdown",
   "metadata": {}
  },
  {
   "cell_type": "code",
   "execution_count": 3,
   "metadata": {},
   "outputs": [
    {
     "output_type": "execute_result",
     "data": {
      "text/plain": [
       "                        id                                               name  \\\n",
       "716     6.0.GDPpc_constant  GDP per capita, PPP (constant 2011 internation...   \n",
       "9193        NY.GDP.PCAP.KD                 GDP per capita (constant 2010 US$)   \n",
       "9195        NY.GDP.PCAP.KN                      GDP per capita (constant LCU)   \n",
       "9197     NY.GDP.PCAP.PP.KD  GDP per capita, PPP (constant 2017 internation...   \n",
       "9198  NY.GDP.PCAP.PP.KD.87  GDP per capita, PPP (constant 1987 internation...   \n",
       "\n",
       "     unit                        source  \\\n",
       "716                      LAC Equity Lab   \n",
       "9193       World Development Indicators   \n",
       "9195       World Development Indicators   \n",
       "9197       World Development Indicators   \n",
       "9198              WDI Database Archives   \n",
       "\n",
       "                                             sourceNote  \\\n",
       "716   GDP per capita based on purchasing power parit...   \n",
       "9193  GDP per capita is gross domestic product divid...   \n",
       "9195  GDP per capita is gross domestic product divid...   \n",
       "9197  GDP per capita based on purchasing power parit...   \n",
       "9198                                                      \n",
       "\n",
       "                                     sourceOrganization            topics  \n",
       "716        b'World Development Indicators (World Bank)'  Economy & Growth  \n",
       "9193  b'World Bank national accounts data, and OECD ...  Economy & Growth  \n",
       "9195  b'World Bank national accounts data, and OECD ...  Economy & Growth  \n",
       "9197  b'International Comparison Program, World Bank...  Economy & Growth  \n",
       "9198                                                b''                    "
      ],
      "text/html": "<div>\n<style scoped>\n    .dataframe tbody tr th:only-of-type {\n        vertical-align: middle;\n    }\n\n    .dataframe tbody tr th {\n        vertical-align: top;\n    }\n\n    .dataframe thead th {\n        text-align: right;\n    }\n</style>\n<table border=\"1\" class=\"dataframe\">\n  <thead>\n    <tr style=\"text-align: right;\">\n      <th></th>\n      <th>id</th>\n      <th>name</th>\n      <th>unit</th>\n      <th>source</th>\n      <th>sourceNote</th>\n      <th>sourceOrganization</th>\n      <th>topics</th>\n    </tr>\n  </thead>\n  <tbody>\n    <tr>\n      <th>716</th>\n      <td>6.0.GDPpc_constant</td>\n      <td>GDP per capita, PPP (constant 2011 internation...</td>\n      <td></td>\n      <td>LAC Equity Lab</td>\n      <td>GDP per capita based on purchasing power parit...</td>\n      <td>b'World Development Indicators (World Bank)'</td>\n      <td>Economy &amp; Growth</td>\n    </tr>\n    <tr>\n      <th>9193</th>\n      <td>NY.GDP.PCAP.KD</td>\n      <td>GDP per capita (constant 2010 US$)</td>\n      <td></td>\n      <td>World Development Indicators</td>\n      <td>GDP per capita is gross domestic product divid...</td>\n      <td>b'World Bank national accounts data, and OECD ...</td>\n      <td>Economy &amp; Growth</td>\n    </tr>\n    <tr>\n      <th>9195</th>\n      <td>NY.GDP.PCAP.KN</td>\n      <td>GDP per capita (constant LCU)</td>\n      <td></td>\n      <td>World Development Indicators</td>\n      <td>GDP per capita is gross domestic product divid...</td>\n      <td>b'World Bank national accounts data, and OECD ...</td>\n      <td>Economy &amp; Growth</td>\n    </tr>\n    <tr>\n      <th>9197</th>\n      <td>NY.GDP.PCAP.PP.KD</td>\n      <td>GDP per capita, PPP (constant 2017 internation...</td>\n      <td></td>\n      <td>World Development Indicators</td>\n      <td>GDP per capita based on purchasing power parit...</td>\n      <td>b'International Comparison Program, World Bank...</td>\n      <td>Economy &amp; Growth</td>\n    </tr>\n    <tr>\n      <th>9198</th>\n      <td>NY.GDP.PCAP.PP.KD.87</td>\n      <td>GDP per capita, PPP (constant 1987 internation...</td>\n      <td></td>\n      <td>WDI Database Archives</td>\n      <td></td>\n      <td>b''</td>\n      <td></td>\n    </tr>\n  </tbody>\n</table>\n</div>"
     },
     "metadata": {},
     "execution_count": 3
    }
   ],
   "source": [
    "from pandas_datareader import wb\n",
    "wb.search('gdp.*capita.*const')"
   ]
  },
  {
   "cell_type": "code",
   "execution_count": 9,
   "metadata": {},
   "outputs": [
    {
     "output_type": "execute_result",
     "data": {
      "text/plain": [
       "                    NY.GDP.PCAP.KD\n",
       "country       year                \n",
       "Canada        2017    51170.475841\n",
       "              2016    50193.750410\n",
       "United States 2017    53552.485014\n",
       "              2016    52643.917842"
      ],
      "text/html": "<div>\n<style scoped>\n    .dataframe tbody tr th:only-of-type {\n        vertical-align: middle;\n    }\n\n    .dataframe tbody tr th {\n        vertical-align: top;\n    }\n\n    .dataframe thead th {\n        text-align: right;\n    }\n</style>\n<table border=\"1\" class=\"dataframe\">\n  <thead>\n    <tr style=\"text-align: right;\">\n      <th></th>\n      <th></th>\n      <th>NY.GDP.PCAP.KD</th>\n    </tr>\n    <tr>\n      <th>country</th>\n      <th>year</th>\n      <th></th>\n    </tr>\n  </thead>\n  <tbody>\n    <tr>\n      <th rowspan=\"2\" valign=\"top\">Canada</th>\n      <th>2017</th>\n      <td>51170.475841</td>\n    </tr>\n    <tr>\n      <th>2016</th>\n      <td>50193.750410</td>\n    </tr>\n    <tr>\n      <th rowspan=\"2\" valign=\"top\">United States</th>\n      <th>2017</th>\n      <td>53552.485014</td>\n    </tr>\n    <tr>\n      <th>2016</th>\n      <td>52643.917842</td>\n    </tr>\n  </tbody>\n</table>\n</div>"
     },
     "metadata": {},
     "execution_count": 9
    }
   ],
   "source": [
    "from pandas_datareader import wb\n",
    "from datetime import datetime\n",
    "wb.download(indicator='NY.GDP.PCAP.KD', country=['US', 'CA'],start=datetime(2016,9,1),end=datetime(2017,9,1))"
   ]
  },
  {
   "source": [
    "# 9.OECD"
   ],
   "cell_type": "markdown",
   "metadata": {}
  },
  {
   "cell_type": "code",
   "execution_count": 10,
   "metadata": {},
   "outputs": [
    {
     "output_type": "execute_result",
     "data": {
      "text/plain": [
       "Source     Administrative data                ...   Survey data                     \n",
       "Series               Employees Union members  ... Union members Trade union  density\n",
       "Year                                          ...                                   \n",
       "2018-01-01             45650.0       12227.0  ...           NaN                  NaN\n",
       "\n",
       "[1 rows x 6 columns]"
      ],
      "text/html": "<div>\n<style scoped>\n    .dataframe tbody tr th:only-of-type {\n        vertical-align: middle;\n    }\n\n    .dataframe tbody tr th {\n        vertical-align: top;\n    }\n\n    .dataframe thead tr th {\n        text-align: left;\n    }\n\n    .dataframe thead tr:last-of-type th {\n        text-align: right;\n    }\n</style>\n<table border=\"1\" class=\"dataframe\">\n  <thead>\n    <tr>\n      <th>Source</th>\n      <th colspan=\"3\" halign=\"left\">Administrative data</th>\n      <th colspan=\"3\" halign=\"left\">Survey data</th>\n    </tr>\n    <tr>\n      <th>Series</th>\n      <th>Employees</th>\n      <th>Union members</th>\n      <th>Trade union  density</th>\n      <th>Employees</th>\n      <th>Union members</th>\n      <th>Trade union  density</th>\n    </tr>\n    <tr>\n      <th>Year</th>\n      <th></th>\n      <th></th>\n      <th></th>\n      <th></th>\n      <th></th>\n      <th></th>\n    </tr>\n  </thead>\n  <tbody>\n    <tr>\n      <th>2018-01-01</th>\n      <td>45650.0</td>\n      <td>12227.0</td>\n      <td>26.8</td>\n      <td>NaN</td>\n      <td>NaN</td>\n      <td>NaN</td>\n    </tr>\n  </tbody>\n</table>\n</div>"
     },
     "metadata": {},
     "execution_count": 10
    }
   ],
   "source": [
    "import pandas_datareader.data as web\n",
    "from datetime import datetime\n",
    "web.DataReader(\"TUD\",\"oecd\",start=datetime(2017,9,1))[\"Japan\"]"
   ]
  },
  {
   "source": [
    "# 10.Eurostat"
   ],
   "cell_type": "markdown",
   "metadata": {}
  },
  {
   "cell_type": "code",
   "execution_count": 70,
   "metadata": {},
   "outputs": [
    {
     "output_type": "execute_result",
     "data": {
      "text/plain": [
       "UNIT                                                                                      Number  \\\n",
       "ACCIDENT    Collisions of trains, including collisions with obstacles within the clearance gauge   \n",
       "GEO                                                                                      Austria   \n",
       "FREQ                                                                                      Annual   \n",
       "TIME_PERIOD                                                                                        \n",
       "2017-01-01                                                 7.0                                     \n",
       "2018-01-01                                                 4.0                                     \n",
       "2019-01-01                                                 1.0                                     \n",
       "\n",
       "UNIT                                                             \\\n",
       "ACCIDENT                                                          \n",
       "GEO         Belgium Bulgaria Switzerland Channel Tunnel Czechia   \n",
       "FREQ         Annual   Annual      Annual         Annual  Annual   \n",
       "TIME_PERIOD                                                       \n",
       "2017-01-01      1.0      1.0         3.0            0.0    11.0   \n",
       "2018-01-01      0.0      1.0         3.0            0.0     6.0   \n",
       "2019-01-01      2.0      4.0         4.0            0.0     7.0   \n",
       "\n",
       "UNIT                                                                          \\\n",
       "ACCIDENT                                                                       \n",
       "GEO         Germany (until 1990 former territory of the FRG) Denmark Estonia   \n",
       "FREQ                                                  Annual  Annual  Annual   \n",
       "TIME_PERIOD                                                                    \n",
       "2017-01-01                                              38.0     2.0     4.0   \n",
       "2018-01-01                                              40.0     1.0     0.0   \n",
       "2019-01-01                                              33.0     2.0     0.0   \n",
       "\n",
       "UNIT                ...                                                    \\\n",
       "ACCIDENT            ...     Unknown                                         \n",
       "GEO         Greece  ... Netherlands Norway Poland Portugal Romania Sweden   \n",
       "FREQ        Annual  ...      Annual Annual Annual   Annual  Annual Annual   \n",
       "TIME_PERIOD         ...                                                     \n",
       "2017-01-01     1.0  ...         NaN    NaN    NaN      NaN     NaN    NaN   \n",
       "2018-01-01     2.0  ...         NaN    NaN    NaN      NaN     NaN    NaN   \n",
       "2019-01-01     1.0  ...         NaN    NaN    NaN      NaN     NaN    NaN   \n",
       "\n",
       "UNIT                                                 \n",
       "ACCIDENT                                             \n",
       "GEO         Slovenia Slovakia Turkey United Kingdom  \n",
       "FREQ          Annual   Annual Annual         Annual  \n",
       "TIME_PERIOD                                          \n",
       "2017-01-01       NaN      NaN    0.0            NaN  \n",
       "2018-01-01       NaN      NaN    0.0            NaN  \n",
       "2019-01-01       NaN      NaN    NaN            NaN  \n",
       "\n",
       "[3 rows x 272 columns]"
      ],
      "text/html": "<div>\n<style scoped>\n    .dataframe tbody tr th:only-of-type {\n        vertical-align: middle;\n    }\n\n    .dataframe tbody tr th {\n        vertical-align: top;\n    }\n\n    .dataframe thead tr th {\n        text-align: left;\n    }\n\n    .dataframe thead tr:last-of-type th {\n        text-align: right;\n    }\n</style>\n<table border=\"1\" class=\"dataframe\">\n  <thead>\n    <tr>\n      <th>UNIT</th>\n      <th colspan=\"21\" halign=\"left\">Number</th>\n    </tr>\n    <tr>\n      <th>ACCIDENT</th>\n      <th colspan=\"10\" halign=\"left\">Collisions of trains, including collisions with obstacles within the clearance gauge</th>\n      <th>...</th>\n      <th colspan=\"10\" halign=\"left\">Unknown</th>\n    </tr>\n    <tr>\n      <th>GEO</th>\n      <th>Austria</th>\n      <th>Belgium</th>\n      <th>Bulgaria</th>\n      <th>Switzerland</th>\n      <th>Channel Tunnel</th>\n      <th>Czechia</th>\n      <th>Germany (until 1990 former territory of the FRG)</th>\n      <th>Denmark</th>\n      <th>Estonia</th>\n      <th>Greece</th>\n      <th>...</th>\n      <th>Netherlands</th>\n      <th>Norway</th>\n      <th>Poland</th>\n      <th>Portugal</th>\n      <th>Romania</th>\n      <th>Sweden</th>\n      <th>Slovenia</th>\n      <th>Slovakia</th>\n      <th>Turkey</th>\n      <th>United Kingdom</th>\n    </tr>\n    <tr>\n      <th>FREQ</th>\n      <th>Annual</th>\n      <th>Annual</th>\n      <th>Annual</th>\n      <th>Annual</th>\n      <th>Annual</th>\n      <th>Annual</th>\n      <th>Annual</th>\n      <th>Annual</th>\n      <th>Annual</th>\n      <th>Annual</th>\n      <th>...</th>\n      <th>Annual</th>\n      <th>Annual</th>\n      <th>Annual</th>\n      <th>Annual</th>\n      <th>Annual</th>\n      <th>Annual</th>\n      <th>Annual</th>\n      <th>Annual</th>\n      <th>Annual</th>\n      <th>Annual</th>\n    </tr>\n    <tr>\n      <th>TIME_PERIOD</th>\n      <th></th>\n      <th></th>\n      <th></th>\n      <th></th>\n      <th></th>\n      <th></th>\n      <th></th>\n      <th></th>\n      <th></th>\n      <th></th>\n      <th></th>\n      <th></th>\n      <th></th>\n      <th></th>\n      <th></th>\n      <th></th>\n      <th></th>\n      <th></th>\n      <th></th>\n      <th></th>\n      <th></th>\n    </tr>\n  </thead>\n  <tbody>\n    <tr>\n      <th>2017-01-01</th>\n      <td>7.0</td>\n      <td>1.0</td>\n      <td>1.0</td>\n      <td>3.0</td>\n      <td>0.0</td>\n      <td>11.0</td>\n      <td>38.0</td>\n      <td>2.0</td>\n      <td>4.0</td>\n      <td>1.0</td>\n      <td>...</td>\n      <td>NaN</td>\n      <td>NaN</td>\n      <td>NaN</td>\n      <td>NaN</td>\n      <td>NaN</td>\n      <td>NaN</td>\n      <td>NaN</td>\n      <td>NaN</td>\n      <td>0.0</td>\n      <td>NaN</td>\n    </tr>\n    <tr>\n      <th>2018-01-01</th>\n      <td>4.0</td>\n      <td>0.0</td>\n      <td>1.0</td>\n      <td>3.0</td>\n      <td>0.0</td>\n      <td>6.0</td>\n      <td>40.0</td>\n      <td>1.0</td>\n      <td>0.0</td>\n      <td>2.0</td>\n      <td>...</td>\n      <td>NaN</td>\n      <td>NaN</td>\n      <td>NaN</td>\n      <td>NaN</td>\n      <td>NaN</td>\n      <td>NaN</td>\n      <td>NaN</td>\n      <td>NaN</td>\n      <td>0.0</td>\n      <td>NaN</td>\n    </tr>\n    <tr>\n      <th>2019-01-01</th>\n      <td>1.0</td>\n      <td>2.0</td>\n      <td>4.0</td>\n      <td>4.0</td>\n      <td>0.0</td>\n      <td>7.0</td>\n      <td>33.0</td>\n      <td>2.0</td>\n      <td>0.0</td>\n      <td>1.0</td>\n      <td>...</td>\n      <td>NaN</td>\n      <td>NaN</td>\n      <td>NaN</td>\n      <td>NaN</td>\n      <td>NaN</td>\n      <td>NaN</td>\n      <td>NaN</td>\n      <td>NaN</td>\n      <td>NaN</td>\n      <td>NaN</td>\n    </tr>\n  </tbody>\n</table>\n<p>3 rows × 272 columns</p>\n</div>"
     },
     "metadata": {},
     "execution_count": 70
    }
   ],
   "source": [
    "import pandas_datareader.data as web\n",
    "from datetime import datetime\n",
    "web.DataReader('tran_sf_railac', 'eurostat',start=datetime(2016,9,1)).head()"
   ]
  },
  {
   "source": [
    "# 11.Nasdaq"
   ],
   "cell_type": "markdown",
   "metadata": {}
  },
  {
   "cell_type": "code",
   "execution_count": 73,
   "metadata": {},
   "outputs": [
    {
     "output_type": "execute_result",
     "data": {
      "text/plain": [
       "        Nasdaq Traded                                      Security Name  \\\n",
       "Symbol                                                                     \n",
       "A                True            Agilent Technologies, Inc. Common Stock   \n",
       "AA               True                    Alcoa Corporation Common Stock    \n",
       "AAA              True  Listed Funds Trust AAF First Priority CLO Bond...   \n",
       "AAAU             True             Goldman Sachs Physical Gold ETF Shares   \n",
       "AAC.U            True  Ares Acquisition Corporation Units, each consi...   \n",
       "...               ...                                                ...   \n",
       "ZXYZ.A           True                 Nasdaq Symbology Test Common Stock   \n",
       "ZXZZT            True                                  NASDAQ TEST STOCK   \n",
       "ZYME             True                       Zymeworks Inc. Common Shares   \n",
       "ZYNE             True       Zynerba Pharmaceuticals, Inc. - Common Stock   \n",
       "ZYXI             True                         Zynex, Inc. - Common Stock   \n",
       "\n",
       "       Listing Exchange Market Category    ETF  Round Lot Size  Test Issue  \\\n",
       "Symbol                                                                       \n",
       "A                     N                  False           100.0       False   \n",
       "AA                    N                  False           100.0       False   \n",
       "AAA                   P                   True           100.0       False   \n",
       "AAAU                  P                   True           100.0       False   \n",
       "AAC.U                 N                  False           100.0       False   \n",
       "...                 ...             ...    ...             ...         ...   \n",
       "ZXYZ.A                Q               Q  False           100.0        True   \n",
       "ZXZZT                 Q               G  False           100.0        True   \n",
       "ZYME                  N                  False           100.0       False   \n",
       "ZYNE                  Q               G  False           100.0       False   \n",
       "ZYXI                  Q               S  False           100.0       False   \n",
       "\n",
       "       Financial Status CQS Symbol NASDAQ Symbol  NextShares  \n",
       "Symbol                                                        \n",
       "A                   NaN          A             A       False  \n",
       "AA                  NaN         AA            AA       False  \n",
       "AAA                 NaN        AAA           AAA       False  \n",
       "AAAU                NaN       AAAU          AAAU       False  \n",
       "AAC.U               NaN      AAC.U          AAC=       False  \n",
       "...                 ...        ...           ...         ...  \n",
       "ZXYZ.A                N        NaN        ZXYZ.A       False  \n",
       "ZXZZT                 N        NaN         ZXZZT       False  \n",
       "ZYME                NaN       ZYME          ZYME       False  \n",
       "ZYNE                  N        NaN          ZYNE       False  \n",
       "ZYXI                  N        NaN          ZYXI       False  \n",
       "\n",
       "[10118 rows x 11 columns]"
      ],
      "text/html": "<div>\n<style scoped>\n    .dataframe tbody tr th:only-of-type {\n        vertical-align: middle;\n    }\n\n    .dataframe tbody tr th {\n        vertical-align: top;\n    }\n\n    .dataframe thead th {\n        text-align: right;\n    }\n</style>\n<table border=\"1\" class=\"dataframe\">\n  <thead>\n    <tr style=\"text-align: right;\">\n      <th></th>\n      <th>Nasdaq Traded</th>\n      <th>Security Name</th>\n      <th>Listing Exchange</th>\n      <th>Market Category</th>\n      <th>ETF</th>\n      <th>Round Lot Size</th>\n      <th>Test Issue</th>\n      <th>Financial Status</th>\n      <th>CQS Symbol</th>\n      <th>NASDAQ Symbol</th>\n      <th>NextShares</th>\n    </tr>\n    <tr>\n      <th>Symbol</th>\n      <th></th>\n      <th></th>\n      <th></th>\n      <th></th>\n      <th></th>\n      <th></th>\n      <th></th>\n      <th></th>\n      <th></th>\n      <th></th>\n      <th></th>\n    </tr>\n  </thead>\n  <tbody>\n    <tr>\n      <th>A</th>\n      <td>True</td>\n      <td>Agilent Technologies, Inc. Common Stock</td>\n      <td>N</td>\n      <td></td>\n      <td>False</td>\n      <td>100.0</td>\n      <td>False</td>\n      <td>NaN</td>\n      <td>A</td>\n      <td>A</td>\n      <td>False</td>\n    </tr>\n    <tr>\n      <th>AA</th>\n      <td>True</td>\n      <td>Alcoa Corporation Common Stock</td>\n      <td>N</td>\n      <td></td>\n      <td>False</td>\n      <td>100.0</td>\n      <td>False</td>\n      <td>NaN</td>\n      <td>AA</td>\n      <td>AA</td>\n      <td>False</td>\n    </tr>\n    <tr>\n      <th>AAA</th>\n      <td>True</td>\n      <td>Listed Funds Trust AAF First Priority CLO Bond...</td>\n      <td>P</td>\n      <td></td>\n      <td>True</td>\n      <td>100.0</td>\n      <td>False</td>\n      <td>NaN</td>\n      <td>AAA</td>\n      <td>AAA</td>\n      <td>False</td>\n    </tr>\n    <tr>\n      <th>AAAU</th>\n      <td>True</td>\n      <td>Goldman Sachs Physical Gold ETF Shares</td>\n      <td>P</td>\n      <td></td>\n      <td>True</td>\n      <td>100.0</td>\n      <td>False</td>\n      <td>NaN</td>\n      <td>AAAU</td>\n      <td>AAAU</td>\n      <td>False</td>\n    </tr>\n    <tr>\n      <th>AAC.U</th>\n      <td>True</td>\n      <td>Ares Acquisition Corporation Units, each consi...</td>\n      <td>N</td>\n      <td></td>\n      <td>False</td>\n      <td>100.0</td>\n      <td>False</td>\n      <td>NaN</td>\n      <td>AAC.U</td>\n      <td>AAC=</td>\n      <td>False</td>\n    </tr>\n    <tr>\n      <th>...</th>\n      <td>...</td>\n      <td>...</td>\n      <td>...</td>\n      <td>...</td>\n      <td>...</td>\n      <td>...</td>\n      <td>...</td>\n      <td>...</td>\n      <td>...</td>\n      <td>...</td>\n      <td>...</td>\n    </tr>\n    <tr>\n      <th>ZXYZ.A</th>\n      <td>True</td>\n      <td>Nasdaq Symbology Test Common Stock</td>\n      <td>Q</td>\n      <td>Q</td>\n      <td>False</td>\n      <td>100.0</td>\n      <td>True</td>\n      <td>N</td>\n      <td>NaN</td>\n      <td>ZXYZ.A</td>\n      <td>False</td>\n    </tr>\n    <tr>\n      <th>ZXZZT</th>\n      <td>True</td>\n      <td>NASDAQ TEST STOCK</td>\n      <td>Q</td>\n      <td>G</td>\n      <td>False</td>\n      <td>100.0</td>\n      <td>True</td>\n      <td>N</td>\n      <td>NaN</td>\n      <td>ZXZZT</td>\n      <td>False</td>\n    </tr>\n    <tr>\n      <th>ZYME</th>\n      <td>True</td>\n      <td>Zymeworks Inc. Common Shares</td>\n      <td>N</td>\n      <td></td>\n      <td>False</td>\n      <td>100.0</td>\n      <td>False</td>\n      <td>NaN</td>\n      <td>ZYME</td>\n      <td>ZYME</td>\n      <td>False</td>\n    </tr>\n    <tr>\n      <th>ZYNE</th>\n      <td>True</td>\n      <td>Zynerba Pharmaceuticals, Inc. - Common Stock</td>\n      <td>Q</td>\n      <td>G</td>\n      <td>False</td>\n      <td>100.0</td>\n      <td>False</td>\n      <td>N</td>\n      <td>NaN</td>\n      <td>ZYNE</td>\n      <td>False</td>\n    </tr>\n    <tr>\n      <th>ZYXI</th>\n      <td>True</td>\n      <td>Zynex, Inc. - Common Stock</td>\n      <td>Q</td>\n      <td>S</td>\n      <td>False</td>\n      <td>100.0</td>\n      <td>False</td>\n      <td>N</td>\n      <td>NaN</td>\n      <td>ZYXI</td>\n      <td>False</td>\n    </tr>\n  </tbody>\n</table>\n<p>10118 rows × 11 columns</p>\n</div>"
     },
     "metadata": {},
     "execution_count": 73
    }
   ],
   "source": [
    "from pandas_datareader.nasdaq_trader import get_nasdaq_symbols\n",
    "get_nasdaq_symbols()"
   ]
  },
  {
   "source": [
    "# 12.Stooq"
   ],
   "cell_type": "markdown",
   "metadata": {}
  },
  {
   "cell_type": "code",
   "execution_count": 1,
   "metadata": {},
   "outputs": [
    {
     "output_type": "error",
     "ename": "ConnectTimeout",
     "evalue": "HTTPSConnectionPool(host='stooq.com', port=443): Max retries exceeded with url: /q/d/l/?s=AAPL.US&i=d&d1=20160327&d2=20210326 (Caused by ConnectTimeoutError(<urllib3.connection.HTTPSConnection object at 0x7f4646488c90>, 'Connection to stooq.com timed out. (connect timeout=30)'))",
     "traceback": [
      "\u001b[0;31m---------------------------------------------------------------------------\u001b[0m",
      "\u001b[0;31mtimeout\u001b[0m                                   Traceback (most recent call last)",
      "\u001b[0;32m~/repos/s-pd-dr/server/.venv/lib/python3.7/site-packages/urllib3/connection.py\u001b[0m in \u001b[0;36m_new_conn\u001b[0;34m(self)\u001b[0m\n\u001b[1;32m    169\u001b[0m             conn = connection.create_connection(\n\u001b[0;32m--> 170\u001b[0;31m                 \u001b[0;34m(\u001b[0m\u001b[0mself\u001b[0m\u001b[0;34m.\u001b[0m\u001b[0m_dns_host\u001b[0m\u001b[0;34m,\u001b[0m \u001b[0mself\u001b[0m\u001b[0;34m.\u001b[0m\u001b[0mport\u001b[0m\u001b[0;34m)\u001b[0m\u001b[0;34m,\u001b[0m \u001b[0mself\u001b[0m\u001b[0;34m.\u001b[0m\u001b[0mtimeout\u001b[0m\u001b[0;34m,\u001b[0m \u001b[0;34m**\u001b[0m\u001b[0mextra_kw\u001b[0m\u001b[0;34m\u001b[0m\u001b[0;34m\u001b[0m\u001b[0m\n\u001b[0m\u001b[1;32m    171\u001b[0m             )\n",
      "\u001b[0;32m~/repos/s-pd-dr/server/.venv/lib/python3.7/site-packages/urllib3/util/connection.py\u001b[0m in \u001b[0;36mcreate_connection\u001b[0;34m(address, timeout, source_address, socket_options)\u001b[0m\n\u001b[1;32m     95\u001b[0m     \u001b[0;32mif\u001b[0m \u001b[0merr\u001b[0m \u001b[0;32mis\u001b[0m \u001b[0;32mnot\u001b[0m \u001b[0;32mNone\u001b[0m\u001b[0;34m:\u001b[0m\u001b[0;34m\u001b[0m\u001b[0;34m\u001b[0m\u001b[0m\n\u001b[0;32m---> 96\u001b[0;31m         \u001b[0;32mraise\u001b[0m \u001b[0merr\u001b[0m\u001b[0;34m\u001b[0m\u001b[0;34m\u001b[0m\u001b[0m\n\u001b[0m\u001b[1;32m     97\u001b[0m \u001b[0;34m\u001b[0m\u001b[0m\n",
      "\u001b[0;32m~/repos/s-pd-dr/server/.venv/lib/python3.7/site-packages/urllib3/util/connection.py\u001b[0m in \u001b[0;36mcreate_connection\u001b[0;34m(address, timeout, source_address, socket_options)\u001b[0m\n\u001b[1;32m     85\u001b[0m                 \u001b[0msock\u001b[0m\u001b[0;34m.\u001b[0m\u001b[0mbind\u001b[0m\u001b[0;34m(\u001b[0m\u001b[0msource_address\u001b[0m\u001b[0;34m)\u001b[0m\u001b[0;34m\u001b[0m\u001b[0;34m\u001b[0m\u001b[0m\n\u001b[0;32m---> 86\u001b[0;31m             \u001b[0msock\u001b[0m\u001b[0;34m.\u001b[0m\u001b[0mconnect\u001b[0m\u001b[0;34m(\u001b[0m\u001b[0msa\u001b[0m\u001b[0;34m)\u001b[0m\u001b[0;34m\u001b[0m\u001b[0;34m\u001b[0m\u001b[0m\n\u001b[0m\u001b[1;32m     87\u001b[0m             \u001b[0;32mreturn\u001b[0m \u001b[0msock\u001b[0m\u001b[0;34m\u001b[0m\u001b[0;34m\u001b[0m\u001b[0m\n",
      "\u001b[0;31mtimeout\u001b[0m: timed out",
      "\nDuring handling of the above exception, another exception occurred:\n",
      "\u001b[0;31mConnectTimeoutError\u001b[0m                       Traceback (most recent call last)",
      "\u001b[0;32m~/repos/s-pd-dr/server/.venv/lib/python3.7/site-packages/urllib3/connectionpool.py\u001b[0m in \u001b[0;36murlopen\u001b[0;34m(self, method, url, body, headers, retries, redirect, assert_same_host, timeout, pool_timeout, release_conn, chunked, body_pos, **response_kw)\u001b[0m\n\u001b[1;32m    705\u001b[0m                 \u001b[0mheaders\u001b[0m\u001b[0;34m=\u001b[0m\u001b[0mheaders\u001b[0m\u001b[0;34m,\u001b[0m\u001b[0;34m\u001b[0m\u001b[0;34m\u001b[0m\u001b[0m\n\u001b[0;32m--> 706\u001b[0;31m                 \u001b[0mchunked\u001b[0m\u001b[0;34m=\u001b[0m\u001b[0mchunked\u001b[0m\u001b[0;34m,\u001b[0m\u001b[0;34m\u001b[0m\u001b[0;34m\u001b[0m\u001b[0m\n\u001b[0m\u001b[1;32m    707\u001b[0m             )\n",
      "\u001b[0;32m~/repos/s-pd-dr/server/.venv/lib/python3.7/site-packages/urllib3/connectionpool.py\u001b[0m in \u001b[0;36m_make_request\u001b[0;34m(self, conn, method, url, timeout, chunked, **httplib_request_kw)\u001b[0m\n\u001b[1;32m    381\u001b[0m         \u001b[0;32mtry\u001b[0m\u001b[0;34m:\u001b[0m\u001b[0;34m\u001b[0m\u001b[0;34m\u001b[0m\u001b[0m\n\u001b[0;32m--> 382\u001b[0;31m             \u001b[0mself\u001b[0m\u001b[0;34m.\u001b[0m\u001b[0m_validate_conn\u001b[0m\u001b[0;34m(\u001b[0m\u001b[0mconn\u001b[0m\u001b[0;34m)\u001b[0m\u001b[0;34m\u001b[0m\u001b[0;34m\u001b[0m\u001b[0m\n\u001b[0m\u001b[1;32m    383\u001b[0m         \u001b[0;32mexcept\u001b[0m \u001b[0;34m(\u001b[0m\u001b[0mSocketTimeout\u001b[0m\u001b[0;34m,\u001b[0m \u001b[0mBaseSSLError\u001b[0m\u001b[0;34m)\u001b[0m \u001b[0;32mas\u001b[0m \u001b[0me\u001b[0m\u001b[0;34m:\u001b[0m\u001b[0;34m\u001b[0m\u001b[0;34m\u001b[0m\u001b[0m\n",
      "\u001b[0;32m~/repos/s-pd-dr/server/.venv/lib/python3.7/site-packages/urllib3/connectionpool.py\u001b[0m in \u001b[0;36m_validate_conn\u001b[0;34m(self, conn)\u001b[0m\n\u001b[1;32m   1009\u001b[0m         \u001b[0;32mif\u001b[0m \u001b[0;32mnot\u001b[0m \u001b[0mgetattr\u001b[0m\u001b[0;34m(\u001b[0m\u001b[0mconn\u001b[0m\u001b[0;34m,\u001b[0m \u001b[0;34m\"sock\"\u001b[0m\u001b[0;34m,\u001b[0m \u001b[0;32mNone\u001b[0m\u001b[0;34m)\u001b[0m\u001b[0;34m:\u001b[0m  \u001b[0;31m# AppEngine might not have  `.sock`\u001b[0m\u001b[0;34m\u001b[0m\u001b[0;34m\u001b[0m\u001b[0m\n\u001b[0;32m-> 1010\u001b[0;31m             \u001b[0mconn\u001b[0m\u001b[0;34m.\u001b[0m\u001b[0mconnect\u001b[0m\u001b[0;34m(\u001b[0m\u001b[0;34m)\u001b[0m\u001b[0;34m\u001b[0m\u001b[0;34m\u001b[0m\u001b[0m\n\u001b[0m\u001b[1;32m   1011\u001b[0m \u001b[0;34m\u001b[0m\u001b[0m\n",
      "\u001b[0;32m~/repos/s-pd-dr/server/.venv/lib/python3.7/site-packages/urllib3/connection.py\u001b[0m in \u001b[0;36mconnect\u001b[0;34m(self)\u001b[0m\n\u001b[1;32m    352\u001b[0m         \u001b[0;31m# Add certificate verification\u001b[0m\u001b[0;34m\u001b[0m\u001b[0;34m\u001b[0m\u001b[0;34m\u001b[0m\u001b[0m\n\u001b[0;32m--> 353\u001b[0;31m         \u001b[0mconn\u001b[0m \u001b[0;34m=\u001b[0m \u001b[0mself\u001b[0m\u001b[0;34m.\u001b[0m\u001b[0m_new_conn\u001b[0m\u001b[0;34m(\u001b[0m\u001b[0;34m)\u001b[0m\u001b[0;34m\u001b[0m\u001b[0;34m\u001b[0m\u001b[0m\n\u001b[0m\u001b[1;32m    354\u001b[0m         \u001b[0mhostname\u001b[0m \u001b[0;34m=\u001b[0m \u001b[0mself\u001b[0m\u001b[0;34m.\u001b[0m\u001b[0mhost\u001b[0m\u001b[0;34m\u001b[0m\u001b[0;34m\u001b[0m\u001b[0m\n",
      "\u001b[0;32m~/repos/s-pd-dr/server/.venv/lib/python3.7/site-packages/urllib3/connection.py\u001b[0m in \u001b[0;36m_new_conn\u001b[0;34m(self)\u001b[0m\n\u001b[1;32m    176\u001b[0m                 \u001b[0;34m\"Connection to %s timed out. (connect timeout=%s)\"\u001b[0m\u001b[0;34m\u001b[0m\u001b[0;34m\u001b[0m\u001b[0m\n\u001b[0;32m--> 177\u001b[0;31m                 \u001b[0;34m%\u001b[0m \u001b[0;34m(\u001b[0m\u001b[0mself\u001b[0m\u001b[0;34m.\u001b[0m\u001b[0mhost\u001b[0m\u001b[0;34m,\u001b[0m \u001b[0mself\u001b[0m\u001b[0;34m.\u001b[0m\u001b[0mtimeout\u001b[0m\u001b[0;34m)\u001b[0m\u001b[0;34m,\u001b[0m\u001b[0;34m\u001b[0m\u001b[0;34m\u001b[0m\u001b[0m\n\u001b[0m\u001b[1;32m    178\u001b[0m             )\n",
      "\u001b[0;31mConnectTimeoutError\u001b[0m: (<urllib3.connection.HTTPSConnection object at 0x7f4646488c90>, 'Connection to stooq.com timed out. (connect timeout=30)')",
      "\nDuring handling of the above exception, another exception occurred:\n",
      "\u001b[0;31mMaxRetryError\u001b[0m                             Traceback (most recent call last)",
      "\u001b[0;32m~/repos/s-pd-dr/server/.venv/lib/python3.7/site-packages/requests/adapters.py\u001b[0m in \u001b[0;36msend\u001b[0;34m(self, request, stream, timeout, verify, cert, proxies)\u001b[0m\n\u001b[1;32m    448\u001b[0m                     \u001b[0mretries\u001b[0m\u001b[0;34m=\u001b[0m\u001b[0mself\u001b[0m\u001b[0;34m.\u001b[0m\u001b[0mmax_retries\u001b[0m\u001b[0;34m,\u001b[0m\u001b[0;34m\u001b[0m\u001b[0;34m\u001b[0m\u001b[0m\n\u001b[0;32m--> 449\u001b[0;31m                     \u001b[0mtimeout\u001b[0m\u001b[0;34m=\u001b[0m\u001b[0mtimeout\u001b[0m\u001b[0;34m\u001b[0m\u001b[0;34m\u001b[0m\u001b[0m\n\u001b[0m\u001b[1;32m    450\u001b[0m                 )\n",
      "\u001b[0;32m~/repos/s-pd-dr/server/.venv/lib/python3.7/site-packages/urllib3/connectionpool.py\u001b[0m in \u001b[0;36murlopen\u001b[0;34m(self, method, url, body, headers, retries, redirect, assert_same_host, timeout, pool_timeout, release_conn, chunked, body_pos, **response_kw)\u001b[0m\n\u001b[1;32m    755\u001b[0m             retries = retries.increment(\n\u001b[0;32m--> 756\u001b[0;31m                 \u001b[0mmethod\u001b[0m\u001b[0;34m,\u001b[0m \u001b[0murl\u001b[0m\u001b[0;34m,\u001b[0m \u001b[0merror\u001b[0m\u001b[0;34m=\u001b[0m\u001b[0me\u001b[0m\u001b[0;34m,\u001b[0m \u001b[0m_pool\u001b[0m\u001b[0;34m=\u001b[0m\u001b[0mself\u001b[0m\u001b[0;34m,\u001b[0m \u001b[0m_stacktrace\u001b[0m\u001b[0;34m=\u001b[0m\u001b[0msys\u001b[0m\u001b[0;34m.\u001b[0m\u001b[0mexc_info\u001b[0m\u001b[0;34m(\u001b[0m\u001b[0;34m)\u001b[0m\u001b[0;34m[\u001b[0m\u001b[0;36m2\u001b[0m\u001b[0;34m]\u001b[0m\u001b[0;34m\u001b[0m\u001b[0;34m\u001b[0m\u001b[0m\n\u001b[0m\u001b[1;32m    757\u001b[0m             )\n",
      "\u001b[0;32m~/repos/s-pd-dr/server/.venv/lib/python3.7/site-packages/urllib3/util/retry.py\u001b[0m in \u001b[0;36mincrement\u001b[0;34m(self, method, url, response, error, _pool, _stacktrace)\u001b[0m\n\u001b[1;32m    573\u001b[0m         \u001b[0;32mif\u001b[0m \u001b[0mnew_retry\u001b[0m\u001b[0;34m.\u001b[0m\u001b[0mis_exhausted\u001b[0m\u001b[0;34m(\u001b[0m\u001b[0;34m)\u001b[0m\u001b[0;34m:\u001b[0m\u001b[0;34m\u001b[0m\u001b[0;34m\u001b[0m\u001b[0m\n\u001b[0;32m--> 574\u001b[0;31m             \u001b[0;32mraise\u001b[0m \u001b[0mMaxRetryError\u001b[0m\u001b[0;34m(\u001b[0m\u001b[0m_pool\u001b[0m\u001b[0;34m,\u001b[0m \u001b[0murl\u001b[0m\u001b[0;34m,\u001b[0m \u001b[0merror\u001b[0m \u001b[0;32mor\u001b[0m \u001b[0mResponseError\u001b[0m\u001b[0;34m(\u001b[0m\u001b[0mcause\u001b[0m\u001b[0;34m)\u001b[0m\u001b[0;34m)\u001b[0m\u001b[0;34m\u001b[0m\u001b[0;34m\u001b[0m\u001b[0m\n\u001b[0m\u001b[1;32m    575\u001b[0m \u001b[0;34m\u001b[0m\u001b[0m\n",
      "\u001b[0;31mMaxRetryError\u001b[0m: HTTPSConnectionPool(host='stooq.com', port=443): Max retries exceeded with url: /q/d/l/?s=AAPL.US&i=d&d1=20160327&d2=20210326 (Caused by ConnectTimeoutError(<urllib3.connection.HTTPSConnection object at 0x7f4646488c90>, 'Connection to stooq.com timed out. (connect timeout=30)'))",
      "\nDuring handling of the above exception, another exception occurred:\n",
      "\u001b[0;31mConnectTimeout\u001b[0m                            Traceback (most recent call last)",
      "\u001b[0;32m<ipython-input-1-a1050d86f191>\u001b[0m in \u001b[0;36m<module>\u001b[0;34m\u001b[0m\n\u001b[1;32m      2\u001b[0m \u001b[0;32mfrom\u001b[0m \u001b[0mdatetime\u001b[0m \u001b[0;32mimport\u001b[0m \u001b[0mdatetime\u001b[0m\u001b[0;34m\u001b[0m\u001b[0;34m\u001b[0m\u001b[0m\n\u001b[1;32m      3\u001b[0m \u001b[0;31m# web.DataReader('AAPL' , \"stooq\",start=datetime(2016,9,1) ).tail()\u001b[0m\u001b[0;34m\u001b[0m\u001b[0;34m\u001b[0m\u001b[0;34m\u001b[0m\u001b[0m\n\u001b[0;32m----> 4\u001b[0;31m \u001b[0mweb\u001b[0m\u001b[0;34m.\u001b[0m\u001b[0mDataReader\u001b[0m\u001b[0;34m(\u001b[0m\u001b[0;34m'AAPL'\u001b[0m \u001b[0;34m,\u001b[0m \u001b[0;34m\"stooq\"\u001b[0m \u001b[0;34m)\u001b[0m\u001b[0;34m.\u001b[0m\u001b[0mtail\u001b[0m\u001b[0;34m(\u001b[0m\u001b[0;34m)\u001b[0m\u001b[0;34m\u001b[0m\u001b[0;34m\u001b[0m\u001b[0m\n\u001b[0m",
      "\u001b[0;32m~/repos/s-pd-dr/server/.venv/lib64/python3.7/site-packages/pandas/util/_decorators.py\u001b[0m in \u001b[0;36mwrapper\u001b[0;34m(*args, **kwargs)\u001b[0m\n\u001b[1;32m    197\u001b[0m                 \u001b[0;32melse\u001b[0m\u001b[0;34m:\u001b[0m\u001b[0;34m\u001b[0m\u001b[0;34m\u001b[0m\u001b[0m\n\u001b[1;32m    198\u001b[0m                     \u001b[0mkwargs\u001b[0m\u001b[0;34m[\u001b[0m\u001b[0mnew_arg_name\u001b[0m\u001b[0;34m]\u001b[0m \u001b[0;34m=\u001b[0m \u001b[0mnew_arg_value\u001b[0m\u001b[0;34m\u001b[0m\u001b[0;34m\u001b[0m\u001b[0m\n\u001b[0;32m--> 199\u001b[0;31m             \u001b[0;32mreturn\u001b[0m \u001b[0mfunc\u001b[0m\u001b[0;34m(\u001b[0m\u001b[0;34m*\u001b[0m\u001b[0margs\u001b[0m\u001b[0;34m,\u001b[0m \u001b[0;34m**\u001b[0m\u001b[0mkwargs\u001b[0m\u001b[0;34m)\u001b[0m\u001b[0;34m\u001b[0m\u001b[0;34m\u001b[0m\u001b[0m\n\u001b[0m\u001b[1;32m    200\u001b[0m \u001b[0;34m\u001b[0m\u001b[0m\n\u001b[1;32m    201\u001b[0m         \u001b[0;32mreturn\u001b[0m \u001b[0mcast\u001b[0m\u001b[0;34m(\u001b[0m\u001b[0mF\u001b[0m\u001b[0;34m,\u001b[0m \u001b[0mwrapper\u001b[0m\u001b[0;34m)\u001b[0m\u001b[0;34m\u001b[0m\u001b[0;34m\u001b[0m\u001b[0m\n",
      "\u001b[0;32m~/repos/s-pd-dr/server/.venv/lib/python3.7/site-packages/pandas_datareader/data.py\u001b[0m in \u001b[0;36mDataReader\u001b[0;34m(name, data_source, start, end, retry_count, pause, session, api_key)\u001b[0m\n\u001b[1;32m    435\u001b[0m             \u001b[0mretry_count\u001b[0m\u001b[0;34m=\u001b[0m\u001b[0mretry_count\u001b[0m\u001b[0;34m,\u001b[0m\u001b[0;34m\u001b[0m\u001b[0;34m\u001b[0m\u001b[0m\n\u001b[1;32m    436\u001b[0m             \u001b[0mpause\u001b[0m\u001b[0;34m=\u001b[0m\u001b[0mpause\u001b[0m\u001b[0;34m,\u001b[0m\u001b[0;34m\u001b[0m\u001b[0;34m\u001b[0m\u001b[0m\n\u001b[0;32m--> 437\u001b[0;31m             \u001b[0msession\u001b[0m\u001b[0;34m=\u001b[0m\u001b[0msession\u001b[0m\u001b[0;34m,\u001b[0m\u001b[0;34m\u001b[0m\u001b[0;34m\u001b[0m\u001b[0m\n\u001b[0m\u001b[1;32m    438\u001b[0m         ).read()\n\u001b[1;32m    439\u001b[0m \u001b[0;34m\u001b[0m\u001b[0m\n",
      "\u001b[0;32m~/repos/s-pd-dr/server/.venv/lib/python3.7/site-packages/pandas_datareader/base.py\u001b[0m in \u001b[0;36mread\u001b[0;34m(self)\u001b[0m\n\u001b[1;32m    251\u001b[0m         \u001b[0;31m# If a single symbol, (e.g., 'GOOG')\u001b[0m\u001b[0;34m\u001b[0m\u001b[0;34m\u001b[0m\u001b[0;34m\u001b[0m\u001b[0m\n\u001b[1;32m    252\u001b[0m         \u001b[0;32mif\u001b[0m \u001b[0misinstance\u001b[0m\u001b[0;34m(\u001b[0m\u001b[0mself\u001b[0m\u001b[0;34m.\u001b[0m\u001b[0msymbols\u001b[0m\u001b[0;34m,\u001b[0m \u001b[0;34m(\u001b[0m\u001b[0mstring_types\u001b[0m\u001b[0;34m,\u001b[0m \u001b[0mint\u001b[0m\u001b[0;34m)\u001b[0m\u001b[0;34m)\u001b[0m\u001b[0;34m:\u001b[0m\u001b[0;34m\u001b[0m\u001b[0;34m\u001b[0m\u001b[0m\n\u001b[0;32m--> 253\u001b[0;31m             \u001b[0mdf\u001b[0m \u001b[0;34m=\u001b[0m \u001b[0mself\u001b[0m\u001b[0;34m.\u001b[0m\u001b[0m_read_one_data\u001b[0m\u001b[0;34m(\u001b[0m\u001b[0mself\u001b[0m\u001b[0;34m.\u001b[0m\u001b[0murl\u001b[0m\u001b[0;34m,\u001b[0m \u001b[0mparams\u001b[0m\u001b[0;34m=\u001b[0m\u001b[0mself\u001b[0m\u001b[0;34m.\u001b[0m\u001b[0m_get_params\u001b[0m\u001b[0;34m(\u001b[0m\u001b[0mself\u001b[0m\u001b[0;34m.\u001b[0m\u001b[0msymbols\u001b[0m\u001b[0;34m)\u001b[0m\u001b[0;34m)\u001b[0m\u001b[0;34m\u001b[0m\u001b[0;34m\u001b[0m\u001b[0m\n\u001b[0m\u001b[1;32m    254\u001b[0m         \u001b[0;31m# Or multiple symbols, (e.g., ['GOOG', 'AAPL', 'MSFT'])\u001b[0m\u001b[0;34m\u001b[0m\u001b[0;34m\u001b[0m\u001b[0;34m\u001b[0m\u001b[0m\n\u001b[1;32m    255\u001b[0m         \u001b[0;32melif\u001b[0m \u001b[0misinstance\u001b[0m\u001b[0;34m(\u001b[0m\u001b[0mself\u001b[0m\u001b[0;34m.\u001b[0m\u001b[0msymbols\u001b[0m\u001b[0;34m,\u001b[0m \u001b[0mDataFrame\u001b[0m\u001b[0;34m)\u001b[0m\u001b[0;34m:\u001b[0m\u001b[0;34m\u001b[0m\u001b[0;34m\u001b[0m\u001b[0m\n",
      "\u001b[0;32m~/repos/s-pd-dr/server/.venv/lib/python3.7/site-packages/pandas_datareader/base.py\u001b[0m in \u001b[0;36m_read_one_data\u001b[0;34m(self, url, params)\u001b[0m\n\u001b[1;32m    105\u001b[0m         \u001b[0;34m\"\"\" read one data from specified URL \"\"\"\u001b[0m\u001b[0;34m\u001b[0m\u001b[0;34m\u001b[0m\u001b[0m\n\u001b[1;32m    106\u001b[0m         \u001b[0;32mif\u001b[0m \u001b[0mself\u001b[0m\u001b[0;34m.\u001b[0m\u001b[0m_format\u001b[0m \u001b[0;34m==\u001b[0m \u001b[0;34m\"string\"\u001b[0m\u001b[0;34m:\u001b[0m\u001b[0;34m\u001b[0m\u001b[0;34m\u001b[0m\u001b[0m\n\u001b[0;32m--> 107\u001b[0;31m             \u001b[0mout\u001b[0m \u001b[0;34m=\u001b[0m \u001b[0mself\u001b[0m\u001b[0;34m.\u001b[0m\u001b[0m_read_url_as_StringIO\u001b[0m\u001b[0;34m(\u001b[0m\u001b[0murl\u001b[0m\u001b[0;34m,\u001b[0m \u001b[0mparams\u001b[0m\u001b[0;34m=\u001b[0m\u001b[0mparams\u001b[0m\u001b[0;34m)\u001b[0m\u001b[0;34m\u001b[0m\u001b[0;34m\u001b[0m\u001b[0m\n\u001b[0m\u001b[1;32m    108\u001b[0m         \u001b[0;32melif\u001b[0m \u001b[0mself\u001b[0m\u001b[0;34m.\u001b[0m\u001b[0m_format\u001b[0m \u001b[0;34m==\u001b[0m \u001b[0;34m\"json\"\u001b[0m\u001b[0;34m:\u001b[0m\u001b[0;34m\u001b[0m\u001b[0;34m\u001b[0m\u001b[0m\n\u001b[1;32m    109\u001b[0m             \u001b[0mout\u001b[0m \u001b[0;34m=\u001b[0m \u001b[0mself\u001b[0m\u001b[0;34m.\u001b[0m\u001b[0m_get_response\u001b[0m\u001b[0;34m(\u001b[0m\u001b[0murl\u001b[0m\u001b[0;34m,\u001b[0m \u001b[0mparams\u001b[0m\u001b[0;34m=\u001b[0m\u001b[0mparams\u001b[0m\u001b[0;34m)\u001b[0m\u001b[0;34m.\u001b[0m\u001b[0mjson\u001b[0m\u001b[0;34m(\u001b[0m\u001b[0;34m)\u001b[0m\u001b[0;34m\u001b[0m\u001b[0;34m\u001b[0m\u001b[0m\n",
      "\u001b[0;32m~/repos/s-pd-dr/server/.venv/lib/python3.7/site-packages/pandas_datareader/base.py\u001b[0m in \u001b[0;36m_read_url_as_StringIO\u001b[0;34m(self, url, params)\u001b[0m\n\u001b[1;32m    116\u001b[0m         \u001b[0mOpen\u001b[0m \u001b[0murl\u001b[0m \u001b[0;34m(\u001b[0m\u001b[0;32mand\u001b[0m \u001b[0mretry\u001b[0m\u001b[0;34m)\u001b[0m\u001b[0;34m\u001b[0m\u001b[0;34m\u001b[0m\u001b[0m\n\u001b[1;32m    117\u001b[0m         \"\"\"\n\u001b[0;32m--> 118\u001b[0;31m         \u001b[0mresponse\u001b[0m \u001b[0;34m=\u001b[0m \u001b[0mself\u001b[0m\u001b[0;34m.\u001b[0m\u001b[0m_get_response\u001b[0m\u001b[0;34m(\u001b[0m\u001b[0murl\u001b[0m\u001b[0;34m,\u001b[0m \u001b[0mparams\u001b[0m\u001b[0;34m=\u001b[0m\u001b[0mparams\u001b[0m\u001b[0;34m)\u001b[0m\u001b[0;34m\u001b[0m\u001b[0;34m\u001b[0m\u001b[0m\n\u001b[0m\u001b[1;32m    119\u001b[0m         \u001b[0mtext\u001b[0m \u001b[0;34m=\u001b[0m \u001b[0mself\u001b[0m\u001b[0;34m.\u001b[0m\u001b[0m_sanitize_response\u001b[0m\u001b[0;34m(\u001b[0m\u001b[0mresponse\u001b[0m\u001b[0;34m)\u001b[0m\u001b[0;34m\u001b[0m\u001b[0;34m\u001b[0m\u001b[0m\n\u001b[1;32m    120\u001b[0m         \u001b[0mout\u001b[0m \u001b[0;34m=\u001b[0m \u001b[0mStringIO\u001b[0m\u001b[0;34m(\u001b[0m\u001b[0;34m)\u001b[0m\u001b[0;34m\u001b[0m\u001b[0;34m\u001b[0m\u001b[0m\n",
      "\u001b[0;32m~/repos/s-pd-dr/server/.venv/lib/python3.7/site-packages/pandas_datareader/base.py\u001b[0m in \u001b[0;36m_get_response\u001b[0;34m(self, url, params, headers)\u001b[0m\n\u001b[1;32m    154\u001b[0m         \u001b[0;32mfor\u001b[0m \u001b[0m_\u001b[0m \u001b[0;32min\u001b[0m \u001b[0mrange\u001b[0m\u001b[0;34m(\u001b[0m\u001b[0mself\u001b[0m\u001b[0;34m.\u001b[0m\u001b[0mretry_count\u001b[0m \u001b[0;34m+\u001b[0m \u001b[0;36m1\u001b[0m\u001b[0;34m)\u001b[0m\u001b[0;34m:\u001b[0m\u001b[0;34m\u001b[0m\u001b[0;34m\u001b[0m\u001b[0m\n\u001b[1;32m    155\u001b[0m             response = self.session.get(\n\u001b[0;32m--> 156\u001b[0;31m                 \u001b[0murl\u001b[0m\u001b[0;34m,\u001b[0m \u001b[0mparams\u001b[0m\u001b[0;34m=\u001b[0m\u001b[0mparams\u001b[0m\u001b[0;34m,\u001b[0m \u001b[0mheaders\u001b[0m\u001b[0;34m=\u001b[0m\u001b[0mheaders\u001b[0m\u001b[0;34m,\u001b[0m \u001b[0mtimeout\u001b[0m\u001b[0;34m=\u001b[0m\u001b[0mself\u001b[0m\u001b[0;34m.\u001b[0m\u001b[0mtimeout\u001b[0m\u001b[0;34m\u001b[0m\u001b[0;34m\u001b[0m\u001b[0m\n\u001b[0m\u001b[1;32m    157\u001b[0m             )\n\u001b[1;32m    158\u001b[0m             \u001b[0;32mif\u001b[0m \u001b[0mresponse\u001b[0m\u001b[0;34m.\u001b[0m\u001b[0mstatus_code\u001b[0m \u001b[0;34m==\u001b[0m \u001b[0mrequests\u001b[0m\u001b[0;34m.\u001b[0m\u001b[0mcodes\u001b[0m\u001b[0;34m.\u001b[0m\u001b[0mok\u001b[0m\u001b[0;34m:\u001b[0m\u001b[0;34m\u001b[0m\u001b[0;34m\u001b[0m\u001b[0m\n",
      "\u001b[0;32m~/repos/s-pd-dr/server/.venv/lib/python3.7/site-packages/requests/sessions.py\u001b[0m in \u001b[0;36mget\u001b[0;34m(self, url, **kwargs)\u001b[0m\n\u001b[1;32m    553\u001b[0m \u001b[0;34m\u001b[0m\u001b[0m\n\u001b[1;32m    554\u001b[0m         \u001b[0mkwargs\u001b[0m\u001b[0;34m.\u001b[0m\u001b[0msetdefault\u001b[0m\u001b[0;34m(\u001b[0m\u001b[0;34m'allow_redirects'\u001b[0m\u001b[0;34m,\u001b[0m \u001b[0;32mTrue\u001b[0m\u001b[0;34m)\u001b[0m\u001b[0;34m\u001b[0m\u001b[0;34m\u001b[0m\u001b[0m\n\u001b[0;32m--> 555\u001b[0;31m         \u001b[0;32mreturn\u001b[0m \u001b[0mself\u001b[0m\u001b[0;34m.\u001b[0m\u001b[0mrequest\u001b[0m\u001b[0;34m(\u001b[0m\u001b[0;34m'GET'\u001b[0m\u001b[0;34m,\u001b[0m \u001b[0murl\u001b[0m\u001b[0;34m,\u001b[0m \u001b[0;34m**\u001b[0m\u001b[0mkwargs\u001b[0m\u001b[0;34m)\u001b[0m\u001b[0;34m\u001b[0m\u001b[0;34m\u001b[0m\u001b[0m\n\u001b[0m\u001b[1;32m    556\u001b[0m \u001b[0;34m\u001b[0m\u001b[0m\n\u001b[1;32m    557\u001b[0m     \u001b[0;32mdef\u001b[0m \u001b[0moptions\u001b[0m\u001b[0;34m(\u001b[0m\u001b[0mself\u001b[0m\u001b[0;34m,\u001b[0m \u001b[0murl\u001b[0m\u001b[0;34m,\u001b[0m \u001b[0;34m**\u001b[0m\u001b[0mkwargs\u001b[0m\u001b[0;34m)\u001b[0m\u001b[0;34m:\u001b[0m\u001b[0;34m\u001b[0m\u001b[0;34m\u001b[0m\u001b[0m\n",
      "\u001b[0;32m~/repos/s-pd-dr/server/.venv/lib/python3.7/site-packages/requests/sessions.py\u001b[0m in \u001b[0;36mrequest\u001b[0;34m(self, method, url, params, data, headers, cookies, files, auth, timeout, allow_redirects, proxies, hooks, stream, verify, cert, json)\u001b[0m\n\u001b[1;32m    540\u001b[0m         }\n\u001b[1;32m    541\u001b[0m         \u001b[0msend_kwargs\u001b[0m\u001b[0;34m.\u001b[0m\u001b[0mupdate\u001b[0m\u001b[0;34m(\u001b[0m\u001b[0msettings\u001b[0m\u001b[0;34m)\u001b[0m\u001b[0;34m\u001b[0m\u001b[0;34m\u001b[0m\u001b[0m\n\u001b[0;32m--> 542\u001b[0;31m         \u001b[0mresp\u001b[0m \u001b[0;34m=\u001b[0m \u001b[0mself\u001b[0m\u001b[0;34m.\u001b[0m\u001b[0msend\u001b[0m\u001b[0;34m(\u001b[0m\u001b[0mprep\u001b[0m\u001b[0;34m,\u001b[0m \u001b[0;34m**\u001b[0m\u001b[0msend_kwargs\u001b[0m\u001b[0;34m)\u001b[0m\u001b[0;34m\u001b[0m\u001b[0;34m\u001b[0m\u001b[0m\n\u001b[0m\u001b[1;32m    543\u001b[0m \u001b[0;34m\u001b[0m\u001b[0m\n\u001b[1;32m    544\u001b[0m         \u001b[0;32mreturn\u001b[0m \u001b[0mresp\u001b[0m\u001b[0;34m\u001b[0m\u001b[0;34m\u001b[0m\u001b[0m\n",
      "\u001b[0;32m~/repos/s-pd-dr/server/.venv/lib/python3.7/site-packages/requests/sessions.py\u001b[0m in \u001b[0;36msend\u001b[0;34m(self, request, **kwargs)\u001b[0m\n\u001b[1;32m    653\u001b[0m \u001b[0;34m\u001b[0m\u001b[0m\n\u001b[1;32m    654\u001b[0m         \u001b[0;31m# Send the request\u001b[0m\u001b[0;34m\u001b[0m\u001b[0;34m\u001b[0m\u001b[0;34m\u001b[0m\u001b[0m\n\u001b[0;32m--> 655\u001b[0;31m         \u001b[0mr\u001b[0m \u001b[0;34m=\u001b[0m \u001b[0madapter\u001b[0m\u001b[0;34m.\u001b[0m\u001b[0msend\u001b[0m\u001b[0;34m(\u001b[0m\u001b[0mrequest\u001b[0m\u001b[0;34m,\u001b[0m \u001b[0;34m**\u001b[0m\u001b[0mkwargs\u001b[0m\u001b[0;34m)\u001b[0m\u001b[0;34m\u001b[0m\u001b[0;34m\u001b[0m\u001b[0m\n\u001b[0m\u001b[1;32m    656\u001b[0m \u001b[0;34m\u001b[0m\u001b[0m\n\u001b[1;32m    657\u001b[0m         \u001b[0;31m# Total elapsed time of the request (approximately)\u001b[0m\u001b[0;34m\u001b[0m\u001b[0;34m\u001b[0m\u001b[0;34m\u001b[0m\u001b[0m\n",
      "\u001b[0;32m~/repos/s-pd-dr/server/.venv/lib/python3.7/site-packages/requests/adapters.py\u001b[0m in \u001b[0;36msend\u001b[0;34m(self, request, stream, timeout, verify, cert, proxies)\u001b[0m\n\u001b[1;32m    502\u001b[0m                 \u001b[0;31m# TODO: Remove this in 3.0.0: see #2811\u001b[0m\u001b[0;34m\u001b[0m\u001b[0;34m\u001b[0m\u001b[0;34m\u001b[0m\u001b[0m\n\u001b[1;32m    503\u001b[0m                 \u001b[0;32mif\u001b[0m \u001b[0;32mnot\u001b[0m \u001b[0misinstance\u001b[0m\u001b[0;34m(\u001b[0m\u001b[0me\u001b[0m\u001b[0;34m.\u001b[0m\u001b[0mreason\u001b[0m\u001b[0;34m,\u001b[0m \u001b[0mNewConnectionError\u001b[0m\u001b[0;34m)\u001b[0m\u001b[0;34m:\u001b[0m\u001b[0;34m\u001b[0m\u001b[0;34m\u001b[0m\u001b[0m\n\u001b[0;32m--> 504\u001b[0;31m                     \u001b[0;32mraise\u001b[0m \u001b[0mConnectTimeout\u001b[0m\u001b[0;34m(\u001b[0m\u001b[0me\u001b[0m\u001b[0;34m,\u001b[0m \u001b[0mrequest\u001b[0m\u001b[0;34m=\u001b[0m\u001b[0mrequest\u001b[0m\u001b[0;34m)\u001b[0m\u001b[0;34m\u001b[0m\u001b[0;34m\u001b[0m\u001b[0m\n\u001b[0m\u001b[1;32m    505\u001b[0m \u001b[0;34m\u001b[0m\u001b[0m\n\u001b[1;32m    506\u001b[0m             \u001b[0;32mif\u001b[0m \u001b[0misinstance\u001b[0m\u001b[0;34m(\u001b[0m\u001b[0me\u001b[0m\u001b[0;34m.\u001b[0m\u001b[0mreason\u001b[0m\u001b[0;34m,\u001b[0m \u001b[0mResponseError\u001b[0m\u001b[0;34m)\u001b[0m\u001b[0;34m:\u001b[0m\u001b[0;34m\u001b[0m\u001b[0;34m\u001b[0m\u001b[0m\n",
      "\u001b[0;31mConnectTimeout\u001b[0m: HTTPSConnectionPool(host='stooq.com', port=443): Max retries exceeded with url: /q/d/l/?s=AAPL.US&i=d&d1=20160327&d2=20210326 (Caused by ConnectTimeoutError(<urllib3.connection.HTTPSConnection object at 0x7f4646488c90>, 'Connection to stooq.com timed out. (connect timeout=30)'))"
     ]
    }
   ],
   "source": [
    "import pandas_datareader.data as web\n",
    "from datetime import datetime\n",
    "# web.DataReader('AAPL' , \"stooq\",start=datetime(2016,9,1) ).tail()\n",
    "web.DataReader('AAPL' , \"stooq\" ).tail()"
   ]
  },
  {
   "source": [
    "# 13.Moex"
   ],
   "cell_type": "markdown",
   "metadata": {}
  },
  {
   "cell_type": "code",
   "execution_count": 2,
   "metadata": {},
   "outputs": [
    {
     "output_type": "execute_result",
     "data": {
      "text/plain": [
       "           BOARDID  CLOSE  HIGH  LOW  NUMTRADES  OPEN         SECID  \\\n",
       "TRADEDATE                                                             \n",
       "2016-10-10    FUTN    0.0   0.0  0.0          0   0.0  USD000UTSTOM   \n",
       "2016-10-10    FUTS    0.0   0.0  0.0          0   0.0  USD000UTSTOM   \n",
       "2020-12-21    FUTN    0.0   0.0  0.0          0   0.0  USD000UTSTOM   \n",
       "2020-12-21    FUTS    0.0   0.0  0.0          0   0.0  USD000UTSTOM   \n",
       "2020-12-22    FUTN    0.0   0.0  0.0          0   0.0  USD000UTSTOM   \n",
       "\n",
       "             SHORTNAME  VOLRUR  WAPRICE  \n",
       "TRADEDATE                                \n",
       "2016-10-10  USDRUB_TOM     0.0      NaN  \n",
       "2016-10-10  USDRUB_TOM     0.0      NaN  \n",
       "2020-12-21  USDRUB_TOM     0.0      NaN  \n",
       "2020-12-21  USDRUB_TOM     0.0      NaN  \n",
       "2020-12-22  USDRUB_TOM     0.0      NaN  "
      ],
      "text/html": "<div>\n<style scoped>\n    .dataframe tbody tr th:only-of-type {\n        vertical-align: middle;\n    }\n\n    .dataframe tbody tr th {\n        vertical-align: top;\n    }\n\n    .dataframe thead th {\n        text-align: right;\n    }\n</style>\n<table border=\"1\" class=\"dataframe\">\n  <thead>\n    <tr style=\"text-align: right;\">\n      <th></th>\n      <th>BOARDID</th>\n      <th>CLOSE</th>\n      <th>HIGH</th>\n      <th>LOW</th>\n      <th>NUMTRADES</th>\n      <th>OPEN</th>\n      <th>SECID</th>\n      <th>SHORTNAME</th>\n      <th>VOLRUR</th>\n      <th>WAPRICE</th>\n    </tr>\n    <tr>\n      <th>TRADEDATE</th>\n      <th></th>\n      <th></th>\n      <th></th>\n      <th></th>\n      <th></th>\n      <th></th>\n      <th></th>\n      <th></th>\n      <th></th>\n      <th></th>\n    </tr>\n  </thead>\n  <tbody>\n    <tr>\n      <th>2016-10-10</th>\n      <td>FUTN</td>\n      <td>0.0</td>\n      <td>0.0</td>\n      <td>0.0</td>\n      <td>0</td>\n      <td>0.0</td>\n      <td>USD000UTSTOM</td>\n      <td>USDRUB_TOM</td>\n      <td>0.0</td>\n      <td>NaN</td>\n    </tr>\n    <tr>\n      <th>2016-10-10</th>\n      <td>FUTS</td>\n      <td>0.0</td>\n      <td>0.0</td>\n      <td>0.0</td>\n      <td>0</td>\n      <td>0.0</td>\n      <td>USD000UTSTOM</td>\n      <td>USDRUB_TOM</td>\n      <td>0.0</td>\n      <td>NaN</td>\n    </tr>\n    <tr>\n      <th>2020-12-21</th>\n      <td>FUTN</td>\n      <td>0.0</td>\n      <td>0.0</td>\n      <td>0.0</td>\n      <td>0</td>\n      <td>0.0</td>\n      <td>USD000UTSTOM</td>\n      <td>USDRUB_TOM</td>\n      <td>0.0</td>\n      <td>NaN</td>\n    </tr>\n    <tr>\n      <th>2020-12-21</th>\n      <td>FUTS</td>\n      <td>0.0</td>\n      <td>0.0</td>\n      <td>0.0</td>\n      <td>0</td>\n      <td>0.0</td>\n      <td>USD000UTSTOM</td>\n      <td>USDRUB_TOM</td>\n      <td>0.0</td>\n      <td>NaN</td>\n    </tr>\n    <tr>\n      <th>2020-12-22</th>\n      <td>FUTN</td>\n      <td>0.0</td>\n      <td>0.0</td>\n      <td>0.0</td>\n      <td>0</td>\n      <td>0.0</td>\n      <td>USD000UTSTOM</td>\n      <td>USDRUB_TOM</td>\n      <td>0.0</td>\n      <td>NaN</td>\n    </tr>\n  </tbody>\n</table>\n</div>"
     },
     "metadata": {},
     "execution_count": 2
    }
   ],
   "source": [
    "import pandas_datareader.data as web\n",
    "from datetime import datetime\n",
    "web.DataReader('USD000UTSTOM', 'moex',start=datetime(2016,9,1)).head()"
   ]
  },
  {
   "source": [
    "# 14.Naver"
   ],
   "cell_type": "markdown",
   "metadata": {}
  },
  {
   "cell_type": "code",
   "execution_count": 77,
   "metadata": {},
   "outputs": [
    {
     "output_type": "execute_result",
     "data": {
      "text/plain": [
       "             Open   High    Low  Close  Volume\n",
       "Date                                          \n",
       "2016-09-01  31660  31760  31260  31740  375803\n",
       "2016-09-02  31900  32260  31760  31940  163060\n",
       "2016-09-05  31800  32300  31700  32120  167676\n",
       "2016-09-06  32140  32900  31940  32860  153203\n",
       "2016-09-07  32960  33040  32420  32420  191837"
      ],
      "text/html": "<div>\n<style scoped>\n    .dataframe tbody tr th:only-of-type {\n        vertical-align: middle;\n    }\n\n    .dataframe tbody tr th {\n        vertical-align: top;\n    }\n\n    .dataframe thead th {\n        text-align: right;\n    }\n</style>\n<table border=\"1\" class=\"dataframe\">\n  <thead>\n    <tr style=\"text-align: right;\">\n      <th></th>\n      <th>Open</th>\n      <th>High</th>\n      <th>Low</th>\n      <th>Close</th>\n      <th>Volume</th>\n    </tr>\n    <tr>\n      <th>Date</th>\n      <th></th>\n      <th></th>\n      <th></th>\n      <th></th>\n      <th></th>\n    </tr>\n  </thead>\n  <tbody>\n    <tr>\n      <th>2016-09-01</th>\n      <td>31660</td>\n      <td>31760</td>\n      <td>31260</td>\n      <td>31740</td>\n      <td>375803</td>\n    </tr>\n    <tr>\n      <th>2016-09-02</th>\n      <td>31900</td>\n      <td>32260</td>\n      <td>31760</td>\n      <td>31940</td>\n      <td>163060</td>\n    </tr>\n    <tr>\n      <th>2016-09-05</th>\n      <td>31800</td>\n      <td>32300</td>\n      <td>31700</td>\n      <td>32120</td>\n      <td>167676</td>\n    </tr>\n    <tr>\n      <th>2016-09-06</th>\n      <td>32140</td>\n      <td>32900</td>\n      <td>31940</td>\n      <td>32860</td>\n      <td>153203</td>\n    </tr>\n    <tr>\n      <th>2016-09-07</th>\n      <td>32960</td>\n      <td>33040</td>\n      <td>32420</td>\n      <td>32420</td>\n      <td>191837</td>\n    </tr>\n  </tbody>\n</table>\n</div>"
     },
     "metadata": {},
     "execution_count": 77
    }
   ],
   "source": [
    "import pandas_datareader.data as web\n",
    "from datetime import datetime\n",
    "web.DataReader('005930', 'naver',start=datetime(2016,9,1)).head()"
   ]
  }
 ]
}